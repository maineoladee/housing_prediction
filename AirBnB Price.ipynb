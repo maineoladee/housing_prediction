{
 "cells": [
  {
   "cell_type": "code",
   "execution_count": 1,
   "id": "94ddd82a",
   "metadata": {},
   "outputs": [
    {
     "ename": "ModuleNotFoundError",
     "evalue": "No module named 'imblearn'",
     "output_type": "error",
     "traceback": [
      "\u001b[1;31m---------------------------------------------------------------------------\u001b[0m",
      "\u001b[1;31mModuleNotFoundError\u001b[0m                       Traceback (most recent call last)",
      "Input \u001b[1;32mIn [1]\u001b[0m, in \u001b[0;36m<cell line: 5>\u001b[1;34m()\u001b[0m\n\u001b[0;32m      3\u001b[0m \u001b[38;5;28;01mimport\u001b[39;00m \u001b[38;5;21;01mnumpy\u001b[39;00m \u001b[38;5;28;01mas\u001b[39;00m \u001b[38;5;21;01mnp\u001b[39;00m\n\u001b[0;32m      4\u001b[0m \u001b[38;5;28;01mfrom\u001b[39;00m \u001b[38;5;21;01msklearn\u001b[39;00m\u001b[38;5;21;01m.\u001b[39;00m\u001b[38;5;21;01mpreprocessing\u001b[39;00m \u001b[38;5;28;01mimport\u001b[39;00m StandardScaler\n\u001b[1;32m----> 5\u001b[0m \u001b[38;5;28;01mfrom\u001b[39;00m \u001b[38;5;21;01mimblearn\u001b[39;00m\u001b[38;5;21;01m.\u001b[39;00m\u001b[38;5;21;01mover_sampling\u001b[39;00m \u001b[38;5;28;01mimport\u001b[39;00m SMOTE\n\u001b[0;32m      7\u001b[0m \u001b[38;5;66;03m# libraries for visualization\u001b[39;00m\n\u001b[0;32m      8\u001b[0m \u001b[38;5;28;01mimport\u001b[39;00m \u001b[38;5;21;01mseaborn\u001b[39;00m \u001b[38;5;28;01mas\u001b[39;00m \u001b[38;5;21;01msns\u001b[39;00m\n",
      "\u001b[1;31mModuleNotFoundError\u001b[0m: No module named 'imblearn'"
     ]
    }
   ],
   "source": [
    "# libraries for analysis\n",
    "import pandas as pd\n",
    "import numpy as np\n",
    "from sklearn.preprocessing import StandardScaler\n",
    "from imblearn.over_sampling import SMOTE\n",
    "\n",
    "# libraries for visualization\n",
    "import seaborn as sns\n",
    "import matplotlib.pyplot as plt\n",
    "\n",
    "\n",
    "# Evaluation libraries\n",
    "from sklearn.model_selection import train_test_split\n",
    "from sklearn.metrics import accuracy_score, confusion_matrix, classification_report\n",
    "\n",
    "# Supervised learning libraries\n",
    "from sklearn.ensemble import RandomForestClassifier\n",
    "from sklearn.tree import DecisionTreeRegressor\n",
    "from sklearn.ensemble import RandomForestRegressor\n",
    "\n",
    "import warnings\n",
    "  \n",
    "# adding entry into the specifications\n",
    "# of the warnings filter.\n",
    "warnings.filterwarnings('ignore')"
   ]
  },
  {
   "cell_type": "code",
   "execution_count": 2,
   "id": "da6ae0ea",
   "metadata": {},
   "outputs": [],
   "source": [
    "# to order code lines\n",
    "import black"
   ]
  },
  {
   "cell_type": "markdown",
   "id": "9befd8a7",
   "metadata": {},
   "source": [
    "## Data Preprocessing"
   ]
  },
  {
   "cell_type": "code",
   "execution_count": 41,
   "id": "278c8ba1",
   "metadata": {},
   "outputs": [
    {
     "data": {
      "text/html": [
       "<div>\n",
       "<style scoped>\n",
       "    .dataframe tbody tr th:only-of-type {\n",
       "        vertical-align: middle;\n",
       "    }\n",
       "\n",
       "    .dataframe tbody tr th {\n",
       "        vertical-align: top;\n",
       "    }\n",
       "\n",
       "    .dataframe thead th {\n",
       "        text-align: right;\n",
       "    }\n",
       "</style>\n",
       "<table border=\"1\" class=\"dataframe\">\n",
       "  <thead>\n",
       "    <tr style=\"text-align: right;\">\n",
       "      <th></th>\n",
       "      <th>Unnamed: 0</th>\n",
       "      <th>neighborhood_overview</th>\n",
       "      <th>host_name</th>\n",
       "      <th>host_location</th>\n",
       "      <th>host_about</th>\n",
       "      <th>host_response_time</th>\n",
       "      <th>host_verifications</th>\n",
       "      <th>neighbourhood</th>\n",
       "      <th>property_type</th>\n",
       "      <th>room_type</th>\n",
       "      <th>amenities</th>\n",
       "      <th>host_is_superhost</th>\n",
       "      <th>accommodates</th>\n",
       "      <th>bedrooms</th>\n",
       "      <th>beds</th>\n",
       "      <th>price</th>\n",
       "      <th>minimum_nights</th>\n",
       "      <th>number_of_reviews</th>\n",
       "      <th>review_scores_rating</th>\n",
       "      <th>instant_bookable</th>\n",
       "    </tr>\n",
       "  </thead>\n",
       "  <tbody>\n",
       "    <tr>\n",
       "      <th>0</th>\n",
       "      <td>0</td>\n",
       "      <td>Not even 10 minutes by metro from Victoria Sta...</td>\n",
       "      <td>Adriano</td>\n",
       "      <td>London, England, United Kingdom</td>\n",
       "      <td>Hello, I'm a friendly Italian man with a very ...</td>\n",
       "      <td>within an hour</td>\n",
       "      <td>['email', 'phone', 'reviews', 'jumio', 'offlin...</td>\n",
       "      <td>London, United Kingdom</td>\n",
       "      <td>Entire apartment</td>\n",
       "      <td>Entire home apt</td>\n",
       "      <td>Refrigerator, Kitchen, Crib, Dedicated workspa...</td>\n",
       "      <td>0</td>\n",
       "      <td>4</td>\n",
       "      <td>1</td>\n",
       "      <td>3</td>\n",
       "      <td>105.0</td>\n",
       "      <td>2</td>\n",
       "      <td>192</td>\n",
       "      <td>91.0</td>\n",
       "      <td>1</td>\n",
       "    </tr>\n",
       "  </tbody>\n",
       "</table>\n",
       "</div>"
      ],
      "text/plain": [
       "   Unnamed: 0                              neighborhood_overview host_name  \\\n",
       "0           0  Not even 10 minutes by metro from Victoria Sta...   Adriano   \n",
       "\n",
       "                     host_location  \\\n",
       "0  London, England, United Kingdom   \n",
       "\n",
       "                                          host_about host_response_time  \\\n",
       "0  Hello, I'm a friendly Italian man with a very ...     within an hour   \n",
       "\n",
       "                                  host_verifications           neighbourhood  \\\n",
       "0  ['email', 'phone', 'reviews', 'jumio', 'offlin...  London, United Kingdom   \n",
       "\n",
       "      property_type        room_type  \\\n",
       "0  Entire apartment  Entire home apt   \n",
       "\n",
       "                                           amenities  host_is_superhost  \\\n",
       "0  Refrigerator, Kitchen, Crib, Dedicated workspa...                  0   \n",
       "\n",
       "   accommodates  bedrooms  beds  price  minimum_nights  number_of_reviews  \\\n",
       "0             4         1     3  105.0               2                192   \n",
       "\n",
       "   review_scores_rating  instant_bookable  \n",
       "0                  91.0                 1  "
      ]
     },
     "execution_count": 41,
     "metadata": {},
     "output_type": "execute_result"
    }
   ],
   "source": [
    "# Importing dataset\n",
    "dataset = pd.read_csv(\"airbnb_listings_information.csv\", on_bad_lines='skip')\n",
    "dataset.head(1)"
   ]
  },
  {
   "cell_type": "code",
   "execution_count": 42,
   "id": "d7808855",
   "metadata": {},
   "outputs": [],
   "source": [
    "# removing the first index column\n",
    "dataset =  dataset.iloc[: , 1:]"
   ]
  },
  {
   "cell_type": "code",
   "execution_count": 43,
   "id": "3abcfe0b",
   "metadata": {},
   "outputs": [
    {
     "data": {
      "text/html": [
       "<div>\n",
       "<style scoped>\n",
       "    .dataframe tbody tr th:only-of-type {\n",
       "        vertical-align: middle;\n",
       "    }\n",
       "\n",
       "    .dataframe tbody tr th {\n",
       "        vertical-align: top;\n",
       "    }\n",
       "\n",
       "    .dataframe thead th {\n",
       "        text-align: right;\n",
       "    }\n",
       "</style>\n",
       "<table border=\"1\" class=\"dataframe\">\n",
       "  <thead>\n",
       "    <tr style=\"text-align: right;\">\n",
       "      <th></th>\n",
       "      <th>neighborhood_overview</th>\n",
       "      <th>host_name</th>\n",
       "      <th>host_location</th>\n",
       "      <th>host_about</th>\n",
       "      <th>host_response_time</th>\n",
       "      <th>host_verifications</th>\n",
       "      <th>neighbourhood</th>\n",
       "      <th>property_type</th>\n",
       "      <th>room_type</th>\n",
       "      <th>amenities</th>\n",
       "      <th>host_is_superhost</th>\n",
       "      <th>accommodates</th>\n",
       "      <th>bedrooms</th>\n",
       "      <th>beds</th>\n",
       "      <th>price</th>\n",
       "      <th>minimum_nights</th>\n",
       "      <th>number_of_reviews</th>\n",
       "      <th>review_scores_rating</th>\n",
       "      <th>instant_bookable</th>\n",
       "    </tr>\n",
       "  </thead>\n",
       "  <tbody>\n",
       "    <tr>\n",
       "      <th>0</th>\n",
       "      <td>Not even 10 minutes by metro from Victoria Sta...</td>\n",
       "      <td>Adriano</td>\n",
       "      <td>London, England, United Kingdom</td>\n",
       "      <td>Hello, I'm a friendly Italian man with a very ...</td>\n",
       "      <td>within an hour</td>\n",
       "      <td>['email', 'phone', 'reviews', 'jumio', 'offlin...</td>\n",
       "      <td>London, United Kingdom</td>\n",
       "      <td>Entire apartment</td>\n",
       "      <td>Entire home apt</td>\n",
       "      <td>Refrigerator, Kitchen, Crib, Dedicated workspa...</td>\n",
       "      <td>0</td>\n",
       "      <td>4</td>\n",
       "      <td>1</td>\n",
       "      <td>3</td>\n",
       "      <td>105.0</td>\n",
       "      <td>2</td>\n",
       "      <td>192</td>\n",
       "      <td>91.0</td>\n",
       "      <td>1</td>\n",
       "    </tr>\n",
       "    <tr>\n",
       "      <th>1</th>\n",
       "      <td>Finsbury Park is a friendly melting pot commun...</td>\n",
       "      <td>Alina</td>\n",
       "      <td>London, England, United Kingdom</td>\n",
       "      <td>I am a Multi-Media Visual Artist and Creative ...</td>\n",
       "      <td>within a few hours</td>\n",
       "      <td>['email', 'phone', 'facebook', 'reviews', 'off...</td>\n",
       "      <td>Islington, Greater London, United Kingdom</td>\n",
       "      <td>Private room in apartment</td>\n",
       "      <td>Private room</td>\n",
       "      <td>Long term stays allowed, Lock on bedroom door,...</td>\n",
       "      <td>0</td>\n",
       "      <td>2</td>\n",
       "      <td>1</td>\n",
       "      <td>1</td>\n",
       "      <td>40.0</td>\n",
       "      <td>1</td>\n",
       "      <td>21</td>\n",
       "      <td>97.0</td>\n",
       "      <td>0</td>\n",
       "    </tr>\n",
       "  </tbody>\n",
       "</table>\n",
       "</div>"
      ],
      "text/plain": [
       "                               neighborhood_overview host_name  \\\n",
       "0  Not even 10 minutes by metro from Victoria Sta...   Adriano   \n",
       "1  Finsbury Park is a friendly melting pot commun...     Alina   \n",
       "\n",
       "                     host_location  \\\n",
       "0  London, England, United Kingdom   \n",
       "1  London, England, United Kingdom   \n",
       "\n",
       "                                          host_about  host_response_time  \\\n",
       "0  Hello, I'm a friendly Italian man with a very ...      within an hour   \n",
       "1  I am a Multi-Media Visual Artist and Creative ...  within a few hours   \n",
       "\n",
       "                                  host_verifications  \\\n",
       "0  ['email', 'phone', 'reviews', 'jumio', 'offlin...   \n",
       "1  ['email', 'phone', 'facebook', 'reviews', 'off...   \n",
       "\n",
       "                               neighbourhood              property_type  \\\n",
       "0                     London, United Kingdom           Entire apartment   \n",
       "1  Islington, Greater London, United Kingdom  Private room in apartment   \n",
       "\n",
       "         room_type                                          amenities  \\\n",
       "0  Entire home apt  Refrigerator, Kitchen, Crib, Dedicated workspa...   \n",
       "1     Private room  Long term stays allowed, Lock on bedroom door,...   \n",
       "\n",
       "   host_is_superhost  accommodates  bedrooms  beds  price  minimum_nights  \\\n",
       "0                  0             4         1     3  105.0               2   \n",
       "1                  0             2         1     1   40.0               1   \n",
       "\n",
       "   number_of_reviews  review_scores_rating  instant_bookable  \n",
       "0                192                  91.0                 1  \n",
       "1                 21                  97.0                 0  "
      ]
     },
     "execution_count": 43,
     "metadata": {},
     "output_type": "execute_result"
    }
   ],
   "source": [
    "dataset.head(2)"
   ]
  },
  {
   "cell_type": "code",
   "execution_count": 44,
   "id": "5746d44c",
   "metadata": {},
   "outputs": [
    {
     "name": "stdout",
     "output_type": "stream",
     "text": [
      "<class 'pandas.core.frame.DataFrame'>\n",
      "RangeIndex: 76254 entries, 0 to 76253\n",
      "Data columns (total 19 columns):\n",
      " #   Column                 Non-Null Count  Dtype  \n",
      "---  ------                 --------------  -----  \n",
      " 0   neighborhood_overview  47088 non-null  object \n",
      " 1   host_name              76254 non-null  object \n",
      " 2   host_location          76076 non-null  object \n",
      " 3   host_about             42630 non-null  object \n",
      " 4   host_response_time     36868 non-null  object \n",
      " 5   host_verifications     76254 non-null  object \n",
      " 6   neighbourhood          47089 non-null  object \n",
      " 7   property_type          76254 non-null  object \n",
      " 8   room_type              76254 non-null  object \n",
      " 9   amenities              76254 non-null  object \n",
      " 10  host_is_superhost      76254 non-null  int64  \n",
      " 11  accommodates           76254 non-null  int64  \n",
      " 12  bedrooms               76254 non-null  int64  \n",
      " 13  beds                   76254 non-null  int64  \n",
      " 14  price                  76254 non-null  float64\n",
      " 15  minimum_nights         76254 non-null  int64  \n",
      " 16  number_of_reviews      76254 non-null  int64  \n",
      " 17  review_scores_rating   52566 non-null  float64\n",
      " 18  instant_bookable       76254 non-null  int64  \n",
      "dtypes: float64(2), int64(7), object(10)\n",
      "memory usage: 11.1+ MB\n"
     ]
    }
   ],
   "source": [
    "# inspecting datatype and comparing to data dictionary\n",
    "dataset.info()"
   ]
  },
  {
   "cell_type": "code",
   "execution_count": 45,
   "id": "9c388374",
   "metadata": {},
   "outputs": [
    {
     "data": {
      "text/plain": [
       "neighborhood_overview    29166\n",
       "host_name                    0\n",
       "host_location              178\n",
       "host_about               33624\n",
       "host_response_time       39386\n",
       "host_verifications           0\n",
       "neighbourhood            29165\n",
       "property_type                0\n",
       "room_type                    0\n",
       "amenities                    0\n",
       "host_is_superhost            0\n",
       "accommodates                 0\n",
       "bedrooms                     0\n",
       "beds                         0\n",
       "price                        0\n",
       "minimum_nights               0\n",
       "number_of_reviews            0\n",
       "review_scores_rating     23688\n",
       "instant_bookable             0\n",
       "dtype: int64"
      ]
     },
     "execution_count": 45,
     "metadata": {},
     "output_type": "execute_result"
    }
   ],
   "source": [
    "# Accessing the null values in dataset\n",
    "dataset.isnull().sum()"
   ]
  },
  {
   "cell_type": "markdown",
   "id": "d0cc3def",
   "metadata": {},
   "source": [
    "Superhosts have a 4.8 or higher average overall rating based on reviews from their Airbnb guests in the past year. Guests know they can expect outstanding hospitality from these Hosts [\"AirBnB UK\"](https://www.airbnb.co.uk/d/superhost#:~:text=Superhosts%20have%20a%204.8%20or,outstanding%20hospitality%20from%20these%20Hosts.)\n",
    "\n",
    "Superhost ratings is an important part of the features, it suggests it will elevate the pricing based on \"perception\" but it will be reviewed further from data to determine if it has strong correlation. Outlook from data also shows that superhost presence does not impact on the overall average review_score_ratings. \n",
    "Both will be used as attributes"
   ]
  },
  {
   "cell_type": "code",
   "execution_count": 46,
   "id": "403e820f",
   "metadata": {},
   "outputs": [],
   "source": [
    "# Dropping features that will have no impact on outcome at sight view\n",
    "new_data = dataset.drop(['neighborhood_overview', 'host_name', 'host_about', 'host_response_time', \n",
    "                         'host_verifications', 'number_of_reviews'], axis= 1)"
   ]
  },
  {
   "cell_type": "code",
   "execution_count": 47,
   "id": "9f6045d8",
   "metadata": {},
   "outputs": [
    {
     "data": {
      "text/html": [
       "<div>\n",
       "<style scoped>\n",
       "    .dataframe tbody tr th:only-of-type {\n",
       "        vertical-align: middle;\n",
       "    }\n",
       "\n",
       "    .dataframe tbody tr th {\n",
       "        vertical-align: top;\n",
       "    }\n",
       "\n",
       "    .dataframe thead th {\n",
       "        text-align: right;\n",
       "    }\n",
       "</style>\n",
       "<table border=\"1\" class=\"dataframe\">\n",
       "  <thead>\n",
       "    <tr style=\"text-align: right;\">\n",
       "      <th></th>\n",
       "      <th>host_location</th>\n",
       "      <th>neighbourhood</th>\n",
       "      <th>property_type</th>\n",
       "      <th>room_type</th>\n",
       "      <th>amenities</th>\n",
       "      <th>host_is_superhost</th>\n",
       "      <th>accommodates</th>\n",
       "      <th>bedrooms</th>\n",
       "      <th>beds</th>\n",
       "      <th>price</th>\n",
       "      <th>minimum_nights</th>\n",
       "      <th>review_scores_rating</th>\n",
       "      <th>instant_bookable</th>\n",
       "    </tr>\n",
       "  </thead>\n",
       "  <tbody>\n",
       "    <tr>\n",
       "      <th>0</th>\n",
       "      <td>London, England, United Kingdom</td>\n",
       "      <td>London, United Kingdom</td>\n",
       "      <td>Entire apartment</td>\n",
       "      <td>Entire home apt</td>\n",
       "      <td>Refrigerator, Kitchen, Crib, Dedicated workspa...</td>\n",
       "      <td>0</td>\n",
       "      <td>4</td>\n",
       "      <td>1</td>\n",
       "      <td>3</td>\n",
       "      <td>105.0</td>\n",
       "      <td>2</td>\n",
       "      <td>91.0</td>\n",
       "      <td>1</td>\n",
       "    </tr>\n",
       "    <tr>\n",
       "      <th>1</th>\n",
       "      <td>London, England, United Kingdom</td>\n",
       "      <td>Islington, Greater London, United Kingdom</td>\n",
       "      <td>Private room in apartment</td>\n",
       "      <td>Private room</td>\n",
       "      <td>Long term stays allowed, Lock on bedroom door,...</td>\n",
       "      <td>0</td>\n",
       "      <td>2</td>\n",
       "      <td>1</td>\n",
       "      <td>1</td>\n",
       "      <td>40.0</td>\n",
       "      <td>1</td>\n",
       "      <td>97.0</td>\n",
       "      <td>0</td>\n",
       "    </tr>\n",
       "    <tr>\n",
       "      <th>2</th>\n",
       "      <td>Kensington, England, United Kingdom</td>\n",
       "      <td>London, United Kingdom</td>\n",
       "      <td>Entire apartment</td>\n",
       "      <td>Entire home apt</td>\n",
       "      <td>Refrigerator, Wifi, Heating, Dishes and silver...</td>\n",
       "      <td>0</td>\n",
       "      <td>2</td>\n",
       "      <td>1</td>\n",
       "      <td>1</td>\n",
       "      <td>75.0</td>\n",
       "      <td>10</td>\n",
       "      <td>96.0</td>\n",
       "      <td>1</td>\n",
       "    </tr>\n",
       "    <tr>\n",
       "      <th>3</th>\n",
       "      <td>London, England, United Kingdom</td>\n",
       "      <td>London, Fitzrovia, United Kingdom</td>\n",
       "      <td>Entire apartment</td>\n",
       "      <td>Entire home apt</td>\n",
       "      <td>Long term stays allowed, Elevator, Heating, Mi...</td>\n",
       "      <td>1</td>\n",
       "      <td>6</td>\n",
       "      <td>3</td>\n",
       "      <td>3</td>\n",
       "      <td>307.0</td>\n",
       "      <td>4</td>\n",
       "      <td>94.0</td>\n",
       "      <td>0</td>\n",
       "    </tr>\n",
       "    <tr>\n",
       "      <th>4</th>\n",
       "      <td>London, England, United Kingdom</td>\n",
       "      <td>London, United Kingdom</td>\n",
       "      <td>Private room in townhouse</td>\n",
       "      <td>Private room</td>\n",
       "      <td>TV, Hair dryer, Lock on bedroom door, Carbon m...</td>\n",
       "      <td>0</td>\n",
       "      <td>2</td>\n",
       "      <td>1</td>\n",
       "      <td>1</td>\n",
       "      <td>150.0</td>\n",
       "      <td>3</td>\n",
       "      <td>NaN</td>\n",
       "      <td>0</td>\n",
       "    </tr>\n",
       "    <tr>\n",
       "      <th>...</th>\n",
       "      <td>...</td>\n",
       "      <td>...</td>\n",
       "      <td>...</td>\n",
       "      <td>...</td>\n",
       "      <td>...</td>\n",
       "      <td>...</td>\n",
       "      <td>...</td>\n",
       "      <td>...</td>\n",
       "      <td>...</td>\n",
       "      <td>...</td>\n",
       "      <td>...</td>\n",
       "      <td>...</td>\n",
       "      <td>...</td>\n",
       "    </tr>\n",
       "    <tr>\n",
       "      <th>76249</th>\n",
       "      <td>London, England, United Kingdom</td>\n",
       "      <td>NaN</td>\n",
       "      <td>Entire condominium</td>\n",
       "      <td>Entire home apt</td>\n",
       "      <td>TV, Hair dryer, Washer, Smoke alarm, Shampoo, ...</td>\n",
       "      <td>0</td>\n",
       "      <td>4</td>\n",
       "      <td>2</td>\n",
       "      <td>2</td>\n",
       "      <td>189.0</td>\n",
       "      <td>3</td>\n",
       "      <td>NaN</td>\n",
       "      <td>1</td>\n",
       "    </tr>\n",
       "    <tr>\n",
       "      <th>76250</th>\n",
       "      <td>London, England, United Kingdom</td>\n",
       "      <td>NaN</td>\n",
       "      <td>Entire condominium</td>\n",
       "      <td>Entire home apt</td>\n",
       "      <td>Essentials, Dryer, Smoke alarm, Shampoo, Dedic...</td>\n",
       "      <td>0</td>\n",
       "      <td>2</td>\n",
       "      <td>1</td>\n",
       "      <td>1</td>\n",
       "      <td>149.0</td>\n",
       "      <td>3</td>\n",
       "      <td>100.0</td>\n",
       "      <td>1</td>\n",
       "    </tr>\n",
       "    <tr>\n",
       "      <th>76251</th>\n",
       "      <td>GB</td>\n",
       "      <td>Greater London, England, United Kingdom</td>\n",
       "      <td>Entire apartment</td>\n",
       "      <td>Entire home apt</td>\n",
       "      <td>Long term stays allowed, Heating, Extra pillow...</td>\n",
       "      <td>0</td>\n",
       "      <td>4</td>\n",
       "      <td>2</td>\n",
       "      <td>4</td>\n",
       "      <td>273.0</td>\n",
       "      <td>4</td>\n",
       "      <td>NaN</td>\n",
       "      <td>0</td>\n",
       "    </tr>\n",
       "    <tr>\n",
       "      <th>76252</th>\n",
       "      <td>GB</td>\n",
       "      <td>Greater London, England, United Kingdom</td>\n",
       "      <td>Entire apartment</td>\n",
       "      <td>Entire home apt</td>\n",
       "      <td>Long term stays allowed, Heating, Extra pillow...</td>\n",
       "      <td>0</td>\n",
       "      <td>4</td>\n",
       "      <td>2</td>\n",
       "      <td>2</td>\n",
       "      <td>433.0</td>\n",
       "      <td>3</td>\n",
       "      <td>NaN</td>\n",
       "      <td>0</td>\n",
       "    </tr>\n",
       "    <tr>\n",
       "      <th>76253</th>\n",
       "      <td>England, United Kingdom</td>\n",
       "      <td>NaN</td>\n",
       "      <td>Private room in apartment</td>\n",
       "      <td>Private room</td>\n",
       "      <td>Refrigerator, Shampoo, Toaster, Microwave, Dry...</td>\n",
       "      <td>0</td>\n",
       "      <td>2</td>\n",
       "      <td>1</td>\n",
       "      <td>1</td>\n",
       "      <td>18.0</td>\n",
       "      <td>2</td>\n",
       "      <td>NaN</td>\n",
       "      <td>0</td>\n",
       "    </tr>\n",
       "  </tbody>\n",
       "</table>\n",
       "<p>76254 rows × 13 columns</p>\n",
       "</div>"
      ],
      "text/plain": [
       "                             host_location  \\\n",
       "0          London, England, United Kingdom   \n",
       "1          London, England, United Kingdom   \n",
       "2      Kensington, England, United Kingdom   \n",
       "3          London, England, United Kingdom   \n",
       "4          London, England, United Kingdom   \n",
       "...                                    ...   \n",
       "76249      London, England, United Kingdom   \n",
       "76250      London, England, United Kingdom   \n",
       "76251                                   GB   \n",
       "76252                                   GB   \n",
       "76253              England, United Kingdom   \n",
       "\n",
       "                                   neighbourhood              property_type  \\\n",
       "0                         London, United Kingdom           Entire apartment   \n",
       "1      Islington, Greater London, United Kingdom  Private room in apartment   \n",
       "2                         London, United Kingdom           Entire apartment   \n",
       "3              London, Fitzrovia, United Kingdom           Entire apartment   \n",
       "4                         London, United Kingdom  Private room in townhouse   \n",
       "...                                          ...                        ...   \n",
       "76249                                        NaN         Entire condominium   \n",
       "76250                                        NaN         Entire condominium   \n",
       "76251    Greater London, England, United Kingdom           Entire apartment   \n",
       "76252    Greater London, England, United Kingdom           Entire apartment   \n",
       "76253                                        NaN  Private room in apartment   \n",
       "\n",
       "             room_type                                          amenities  \\\n",
       "0      Entire home apt  Refrigerator, Kitchen, Crib, Dedicated workspa...   \n",
       "1         Private room  Long term stays allowed, Lock on bedroom door,...   \n",
       "2      Entire home apt  Refrigerator, Wifi, Heating, Dishes and silver...   \n",
       "3      Entire home apt  Long term stays allowed, Elevator, Heating, Mi...   \n",
       "4         Private room  TV, Hair dryer, Lock on bedroom door, Carbon m...   \n",
       "...                ...                                                ...   \n",
       "76249  Entire home apt  TV, Hair dryer, Washer, Smoke alarm, Shampoo, ...   \n",
       "76250  Entire home apt  Essentials, Dryer, Smoke alarm, Shampoo, Dedic...   \n",
       "76251  Entire home apt  Long term stays allowed, Heating, Extra pillow...   \n",
       "76252  Entire home apt  Long term stays allowed, Heating, Extra pillow...   \n",
       "76253     Private room  Refrigerator, Shampoo, Toaster, Microwave, Dry...   \n",
       "\n",
       "       host_is_superhost  accommodates  bedrooms  beds  price  minimum_nights  \\\n",
       "0                      0             4         1     3  105.0               2   \n",
       "1                      0             2         1     1   40.0               1   \n",
       "2                      0             2         1     1   75.0              10   \n",
       "3                      1             6         3     3  307.0               4   \n",
       "4                      0             2         1     1  150.0               3   \n",
       "...                  ...           ...       ...   ...    ...             ...   \n",
       "76249                  0             4         2     2  189.0               3   \n",
       "76250                  0             2         1     1  149.0               3   \n",
       "76251                  0             4         2     4  273.0               4   \n",
       "76252                  0             4         2     2  433.0               3   \n",
       "76253                  0             2         1     1   18.0               2   \n",
       "\n",
       "       review_scores_rating  instant_bookable  \n",
       "0                      91.0                 1  \n",
       "1                      97.0                 0  \n",
       "2                      96.0                 1  \n",
       "3                      94.0                 0  \n",
       "4                       NaN                 0  \n",
       "...                     ...               ...  \n",
       "76249                   NaN                 1  \n",
       "76250                 100.0                 1  \n",
       "76251                   NaN                 0  \n",
       "76252                   NaN                 0  \n",
       "76253                   NaN                 0  \n",
       "\n",
       "[76254 rows x 13 columns]"
      ]
     },
     "execution_count": 47,
     "metadata": {},
     "output_type": "execute_result"
    }
   ],
   "source": [
    "new_data"
   ]
  },
  {
   "cell_type": "markdown",
   "id": "4c1d2108",
   "metadata": {},
   "source": [
    "### Handling Missing Data"
   ]
  },
  {
   "cell_type": "code",
   "execution_count": 48,
   "id": "2c7a51f4",
   "metadata": {},
   "outputs": [
    {
     "data": {
      "text/plain": [
       "host_location             178\n",
       "neighbourhood           29165\n",
       "property_type               0\n",
       "room_type                   0\n",
       "amenities                   0\n",
       "host_is_superhost           0\n",
       "accommodates                0\n",
       "bedrooms                    0\n",
       "beds                        0\n",
       "price                       0\n",
       "minimum_nights              0\n",
       "review_scores_rating    23688\n",
       "instant_bookable            0\n",
       "dtype: int64"
      ]
     },
     "execution_count": 48,
     "metadata": {},
     "output_type": "execute_result"
    }
   ],
   "source": [
    "new_data.isna().sum()"
   ]
  },
  {
   "cell_type": "code",
   "execution_count": 49,
   "id": "cca6b998",
   "metadata": {},
   "outputs": [
    {
     "data": {
      "text/plain": [
       "93.05267663508732"
      ]
     },
     "execution_count": 49,
     "metadata": {},
     "output_type": "execute_result"
    }
   ],
   "source": [
    "# mean was used here to replace missing values because we are looking for the competitive price of airbnb\n",
    "# in the market where ratings play a role in peception\n",
    "new_data['review_scores_rating'].mean()"
   ]
  },
  {
   "cell_type": "code",
   "execution_count": 50,
   "id": "5364c1a6",
   "metadata": {},
   "outputs": [],
   "source": [
    "new_data['review_scores_rating'].fillna(93, inplace=True)"
   ]
  },
  {
   "cell_type": "code",
   "execution_count": 51,
   "id": "6d2b3f30",
   "metadata": {},
   "outputs": [
    {
     "data": {
      "text/plain": [
       "host_location             178\n",
       "neighbourhood           29165\n",
       "property_type               0\n",
       "room_type                   0\n",
       "amenities                   0\n",
       "host_is_superhost           0\n",
       "accommodates                0\n",
       "bedrooms                    0\n",
       "beds                        0\n",
       "price                       0\n",
       "minimum_nights              0\n",
       "review_scores_rating        0\n",
       "instant_bookable            0\n",
       "dtype: int64"
      ]
     },
     "execution_count": 51,
     "metadata": {},
     "output_type": "execute_result"
    }
   ],
   "source": [
    "# inspecting changes\n",
    "new_data.isna().sum()"
   ]
  },
  {
   "cell_type": "code",
   "execution_count": 52,
   "id": "78a65b76",
   "metadata": {},
   "outputs": [
    {
     "data": {
      "text/html": [
       "<div>\n",
       "<style scoped>\n",
       "    .dataframe tbody tr th:only-of-type {\n",
       "        vertical-align: middle;\n",
       "    }\n",
       "\n",
       "    .dataframe tbody tr th {\n",
       "        vertical-align: top;\n",
       "    }\n",
       "\n",
       "    .dataframe thead th {\n",
       "        text-align: right;\n",
       "    }\n",
       "</style>\n",
       "<table border=\"1\" class=\"dataframe\">\n",
       "  <thead>\n",
       "    <tr style=\"text-align: right;\">\n",
       "      <th></th>\n",
       "      <th>host_location</th>\n",
       "      <th>neighbourhood</th>\n",
       "      <th>property_type</th>\n",
       "      <th>room_type</th>\n",
       "      <th>amenities</th>\n",
       "      <th>host_is_superhost</th>\n",
       "      <th>accommodates</th>\n",
       "      <th>bedrooms</th>\n",
       "      <th>beds</th>\n",
       "      <th>price</th>\n",
       "      <th>minimum_nights</th>\n",
       "      <th>review_scores_rating</th>\n",
       "      <th>instant_bookable</th>\n",
       "    </tr>\n",
       "  </thead>\n",
       "  <tbody>\n",
       "    <tr>\n",
       "      <th>10389</th>\n",
       "      <td>NaN</td>\n",
       "      <td>London, United Kingdom</td>\n",
       "      <td>Entire apartment</td>\n",
       "      <td>Entire home apt</td>\n",
       "      <td>Shampoo, Hangers, Wifi, Essentials, Elevator, ...</td>\n",
       "      <td>0</td>\n",
       "      <td>6</td>\n",
       "      <td>2</td>\n",
       "      <td>2</td>\n",
       "      <td>220.0</td>\n",
       "      <td>7</td>\n",
       "      <td>93.0</td>\n",
       "      <td>0</td>\n",
       "    </tr>\n",
       "    <tr>\n",
       "      <th>10801</th>\n",
       "      <td>NaN</td>\n",
       "      <td>NaN</td>\n",
       "      <td>Entire apartment</td>\n",
       "      <td>Entire home apt</td>\n",
       "      <td>Wifi, Elevator, Smoke alarm, TV, Iron, Free pa...</td>\n",
       "      <td>0</td>\n",
       "      <td>4</td>\n",
       "      <td>2</td>\n",
       "      <td>2</td>\n",
       "      <td>150.0</td>\n",
       "      <td>1</td>\n",
       "      <td>93.0</td>\n",
       "      <td>0</td>\n",
       "    </tr>\n",
       "    <tr>\n",
       "      <th>11318</th>\n",
       "      <td>NaN</td>\n",
       "      <td>NaN</td>\n",
       "      <td>Private room in house</td>\n",
       "      <td>Private room</td>\n",
       "      <td>Heating, Kitchen, Lock on bedroom door, Wifi, ...</td>\n",
       "      <td>0</td>\n",
       "      <td>1</td>\n",
       "      <td>1</td>\n",
       "      <td>1</td>\n",
       "      <td>17.0</td>\n",
       "      <td>1</td>\n",
       "      <td>40.0</td>\n",
       "      <td>0</td>\n",
       "    </tr>\n",
       "    <tr>\n",
       "      <th>11620</th>\n",
       "      <td>NaN</td>\n",
       "      <td>London, United Kingdom</td>\n",
       "      <td>Entire apartment</td>\n",
       "      <td>Entire home apt</td>\n",
       "      <td>TV, Heating, Dryer, Washer, Cable TV, Wifi, Es...</td>\n",
       "      <td>0</td>\n",
       "      <td>4</td>\n",
       "      <td>2</td>\n",
       "      <td>2</td>\n",
       "      <td>200.0</td>\n",
       "      <td>1</td>\n",
       "      <td>93.0</td>\n",
       "      <td>0</td>\n",
       "    </tr>\n",
       "    <tr>\n",
       "      <th>11951</th>\n",
       "      <td>NaN</td>\n",
       "      <td>London, United Kingdom</td>\n",
       "      <td>Private room in house</td>\n",
       "      <td>Private room</td>\n",
       "      <td>Shampoo, Hangers, Wifi, Essentials, Smoke alar...</td>\n",
       "      <td>0</td>\n",
       "      <td>3</td>\n",
       "      <td>2</td>\n",
       "      <td>2</td>\n",
       "      <td>68.0</td>\n",
       "      <td>2</td>\n",
       "      <td>93.0</td>\n",
       "      <td>0</td>\n",
       "    </tr>\n",
       "    <tr>\n",
       "      <th>...</th>\n",
       "      <td>...</td>\n",
       "      <td>...</td>\n",
       "      <td>...</td>\n",
       "      <td>...</td>\n",
       "      <td>...</td>\n",
       "      <td>...</td>\n",
       "      <td>...</td>\n",
       "      <td>...</td>\n",
       "      <td>...</td>\n",
       "      <td>...</td>\n",
       "      <td>...</td>\n",
       "      <td>...</td>\n",
       "      <td>...</td>\n",
       "    </tr>\n",
       "    <tr>\n",
       "      <th>74278</th>\n",
       "      <td>NaN</td>\n",
       "      <td>Greater London, England, United Kingdom</td>\n",
       "      <td>Entire house</td>\n",
       "      <td>Entire home apt</td>\n",
       "      <td>First aid kit, TV, Hair dryer, Washer, Smoke a...</td>\n",
       "      <td>0</td>\n",
       "      <td>4</td>\n",
       "      <td>2</td>\n",
       "      <td>2</td>\n",
       "      <td>100.0</td>\n",
       "      <td>10</td>\n",
       "      <td>93.0</td>\n",
       "      <td>0</td>\n",
       "    </tr>\n",
       "    <tr>\n",
       "      <th>74430</th>\n",
       "      <td>NaN</td>\n",
       "      <td>NaN</td>\n",
       "      <td>Entire house</td>\n",
       "      <td>Entire home apt</td>\n",
       "      <td>First aid kit, Hair dryer, Oven, Washer, Smoke...</td>\n",
       "      <td>0</td>\n",
       "      <td>10</td>\n",
       "      <td>5</td>\n",
       "      <td>6</td>\n",
       "      <td>1200.0</td>\n",
       "      <td>3</td>\n",
       "      <td>93.0</td>\n",
       "      <td>0</td>\n",
       "    </tr>\n",
       "    <tr>\n",
       "      <th>75602</th>\n",
       "      <td>NaN</td>\n",
       "      <td>NaN</td>\n",
       "      <td>Private room in apartment</td>\n",
       "      <td>Private room</td>\n",
       "      <td>First aid kit, TV, Lock on bedroom door, Eleva...</td>\n",
       "      <td>0</td>\n",
       "      <td>1</td>\n",
       "      <td>1</td>\n",
       "      <td>1</td>\n",
       "      <td>25.0</td>\n",
       "      <td>7</td>\n",
       "      <td>93.0</td>\n",
       "      <td>1</td>\n",
       "    </tr>\n",
       "    <tr>\n",
       "      <th>75730</th>\n",
       "      <td>NaN</td>\n",
       "      <td>Greater London, England, United Kingdom</td>\n",
       "      <td>Entire apartment</td>\n",
       "      <td>Entire home apt</td>\n",
       "      <td>Long term stays allowed, Pour-over coffee, Roo...</td>\n",
       "      <td>0</td>\n",
       "      <td>6</td>\n",
       "      <td>2</td>\n",
       "      <td>2</td>\n",
       "      <td>185.0</td>\n",
       "      <td>2</td>\n",
       "      <td>100.0</td>\n",
       "      <td>1</td>\n",
       "    </tr>\n",
       "    <tr>\n",
       "      <th>75955</th>\n",
       "      <td>NaN</td>\n",
       "      <td>Greater London, England, United Kingdom</td>\n",
       "      <td>Entire apartment</td>\n",
       "      <td>Entire home apt</td>\n",
       "      <td>TV, Washer, Shampoo, Free parking on premises,...</td>\n",
       "      <td>0</td>\n",
       "      <td>3</td>\n",
       "      <td>1</td>\n",
       "      <td>1</td>\n",
       "      <td>95.0</td>\n",
       "      <td>1</td>\n",
       "      <td>93.0</td>\n",
       "      <td>0</td>\n",
       "    </tr>\n",
       "  </tbody>\n",
       "</table>\n",
       "<p>178 rows × 13 columns</p>\n",
       "</div>"
      ],
      "text/plain": [
       "      host_location                            neighbourhood  \\\n",
       "10389           NaN                   London, United Kingdom   \n",
       "10801           NaN                                      NaN   \n",
       "11318           NaN                                      NaN   \n",
       "11620           NaN                   London, United Kingdom   \n",
       "11951           NaN                   London, United Kingdom   \n",
       "...             ...                                      ...   \n",
       "74278           NaN  Greater London, England, United Kingdom   \n",
       "74430           NaN                                      NaN   \n",
       "75602           NaN                                      NaN   \n",
       "75730           NaN  Greater London, England, United Kingdom   \n",
       "75955           NaN  Greater London, England, United Kingdom   \n",
       "\n",
       "                   property_type        room_type  \\\n",
       "10389           Entire apartment  Entire home apt   \n",
       "10801           Entire apartment  Entire home apt   \n",
       "11318      Private room in house     Private room   \n",
       "11620           Entire apartment  Entire home apt   \n",
       "11951      Private room in house     Private room   \n",
       "...                          ...              ...   \n",
       "74278               Entire house  Entire home apt   \n",
       "74430               Entire house  Entire home apt   \n",
       "75602  Private room in apartment     Private room   \n",
       "75730           Entire apartment  Entire home apt   \n",
       "75955           Entire apartment  Entire home apt   \n",
       "\n",
       "                                               amenities  host_is_superhost  \\\n",
       "10389  Shampoo, Hangers, Wifi, Essentials, Elevator, ...                  0   \n",
       "10801  Wifi, Elevator, Smoke alarm, TV, Iron, Free pa...                  0   \n",
       "11318  Heating, Kitchen, Lock on bedroom door, Wifi, ...                  0   \n",
       "11620  TV, Heating, Dryer, Washer, Cable TV, Wifi, Es...                  0   \n",
       "11951  Shampoo, Hangers, Wifi, Essentials, Smoke alar...                  0   \n",
       "...                                                  ...                ...   \n",
       "74278  First aid kit, TV, Hair dryer, Washer, Smoke a...                  0   \n",
       "74430  First aid kit, Hair dryer, Oven, Washer, Smoke...                  0   \n",
       "75602  First aid kit, TV, Lock on bedroom door, Eleva...                  0   \n",
       "75730  Long term stays allowed, Pour-over coffee, Roo...                  0   \n",
       "75955  TV, Washer, Shampoo, Free parking on premises,...                  0   \n",
       "\n",
       "       accommodates  bedrooms  beds   price  minimum_nights  \\\n",
       "10389             6         2     2   220.0               7   \n",
       "10801             4         2     2   150.0               1   \n",
       "11318             1         1     1    17.0               1   \n",
       "11620             4         2     2   200.0               1   \n",
       "11951             3         2     2    68.0               2   \n",
       "...             ...       ...   ...     ...             ...   \n",
       "74278             4         2     2   100.0              10   \n",
       "74430            10         5     6  1200.0               3   \n",
       "75602             1         1     1    25.0               7   \n",
       "75730             6         2     2   185.0               2   \n",
       "75955             3         1     1    95.0               1   \n",
       "\n",
       "       review_scores_rating  instant_bookable  \n",
       "10389                  93.0                 0  \n",
       "10801                  93.0                 0  \n",
       "11318                  40.0                 0  \n",
       "11620                  93.0                 0  \n",
       "11951                  93.0                 0  \n",
       "...                     ...               ...  \n",
       "74278                  93.0                 0  \n",
       "74430                  93.0                 0  \n",
       "75602                  93.0                 1  \n",
       "75730                 100.0                 1  \n",
       "75955                  93.0                 0  \n",
       "\n",
       "[178 rows x 13 columns]"
      ]
     },
     "execution_count": 52,
     "metadata": {},
     "output_type": "execute_result"
    }
   ],
   "source": [
    "new_data[new_data['host_location'].isnull()]"
   ]
  },
  {
   "cell_type": "code",
   "execution_count": 53,
   "id": "b30ce498",
   "metadata": {},
   "outputs": [],
   "source": [
    "# replacing nan with '?' which will be later replaced with the corresponding values in @neighbourhood; \n",
    "# a relative feature in dataset\n",
    "new_data['host_location'].fillna('?', inplace=True)\n",
    "\n",
    "new_data['neighbourhood'].fillna('?', inplace=True)"
   ]
  },
  {
   "cell_type": "code",
   "execution_count": 54,
   "id": "cf80e153",
   "metadata": {},
   "outputs": [
    {
     "name": "stdout",
     "output_type": "stream",
     "text": [
      "? London, United Kingdom\n",
      "? London, United Kingdom\n",
      "? London, United Kingdom\n",
      "? London, United Kingdom\n",
      "? Greenwich, London, United Kingdom\n",
      "? Edgware, England, United Kingdom\n",
      "? Enfield, England, United Kingdom\n",
      "? London, England, United Kingdom\n",
      "? London , England, United Kingdom\n",
      "? Kingston upon Thames, England, United Kingdom\n",
      "? London, England, United Kingdom\n",
      "? London, England, United Kingdom\n",
      "? Greater London, England, United Kingdom\n",
      "? London, England, United Kingdom\n",
      "? London, England, United Kingdom\n",
      "? Greater London, England, United Kingdom\n",
      "? Greater London, England, United Kingdom\n",
      "? Greater London, England, United Kingdom\n",
      "? Greater London, England, United Kingdom\n",
      "? ロンドン, イングランド, United Kingdom\n",
      "? Greater London, England, United Kingdom\n",
      "? Greater London, England, United Kingdom\n",
      "? Greater London, England, United Kingdom\n",
      "? Greater London, England, United Kingdom\n",
      "? Greater London, England, United Kingdom\n",
      "? Greater London, England, United Kingdom\n",
      "? Greater London, England, United Kingdom\n",
      "? Greater London, England, United Kingdom\n",
      "? Stanmore, England, United Kingdom\n",
      "? Greater London, England, United Kingdom\n",
      "? Stanmore, England, United Kingdom\n",
      "? Greater London, England, United Kingdom\n",
      "? Greater London, England, United Kingdom\n",
      "? Greater London, England, United Kingdom\n",
      "? Greater London, England, United Kingdom\n",
      "? Greater London, England, United Kingdom\n",
      "? Greater London, England, United Kingdom\n",
      "? Greater London, England, United Kingdom\n",
      "? Greater London, England, United Kingdom\n",
      "? Greater London, England, United Kingdom\n",
      "? Greater London, England, United Kingdom\n",
      "? Richmond, England, United Kingdom\n",
      "? Greater London, England, United Kingdom\n",
      "? Greater London, England, United Kingdom\n",
      "? Greater London, England, United Kingdom\n",
      "? Greater London, England, United Kingdom\n",
      "? Greater London, England, United Kingdom\n",
      "? Greater London, England, United Kingdom\n",
      "? Greater London, England, United Kingdom\n",
      "? Greater London, England, United Kingdom\n",
      "? Greater London, England, United Kingdom\n",
      "? Greater London, England, United Kingdom\n",
      "? Greater London, England, United Kingdom\n",
      "? Greater London, England, United Kingdom\n",
      "? Greater London, England, United Kingdom\n",
      "? Greater London, England, United Kingdom\n",
      "? Greater London, England, United Kingdom\n",
      "? Greater London, England, United Kingdom\n",
      "? Greater London, England, United Kingdom\n",
      "? Greater London, England, United Kingdom\n",
      "? Greater London, England, United Kingdom\n",
      "? London, England, United Kingdom\n",
      "? Greater London, England, United Kingdom\n",
      "? Greater London, England, United Kingdom\n",
      "? Greater London, England, United Kingdom\n",
      "? Greater London, England, United Kingdom\n",
      "? Greater London, England, United Kingdom\n",
      "? Londres, England, United Kingdom\n",
      "? Greater London, England, United Kingdom\n",
      "? Greater London, England, United Kingdom\n",
      "? Greater London, England, United Kingdom\n",
      "? Greater London, England, United Kingdom\n",
      "? Greater London, England, United Kingdom\n",
      "? London, England, United Kingdom\n",
      "? Greater London, England, United Kingdom\n",
      "? Greater London, England, United Kingdom\n",
      "? Greater London, England, United Kingdom\n"
     ]
    }
   ],
   "source": [
    "for i, j in zip(new_data['host_location'], new_data['neighbourhood']):\n",
    "    if i == \"?\" and j != \"?\":\n",
    "        print(i,j)"
   ]
  },
  {
   "cell_type": "code",
   "execution_count": 55,
   "id": "6147898f",
   "metadata": {},
   "outputs": [],
   "source": [
    "# There are 180 missing data in host_location, this can be further reduced by fillng the nan values with \"neighbourhood\" data\n",
    "# replacing \"?\" in host_location with 77 available corresponding data from neighnourhood\n",
    "for i, j in zip(new_data['host_location'], new_data['neighbourhood']) :\n",
    "    if i == \"?\" and j != \"?\":\n",
    "        new_data['host_location'] = np.where(new_data['host_location'] == \"?\"\n",
    "                                             , new_data['neighbourhood'], new_data['host_location'])"
   ]
  },
  {
   "cell_type": "code",
   "execution_count": 56,
   "id": "42b6ed76",
   "metadata": {},
   "outputs": [
    {
     "data": {
      "text/html": [
       "<div>\n",
       "<style scoped>\n",
       "    .dataframe tbody tr th:only-of-type {\n",
       "        vertical-align: middle;\n",
       "    }\n",
       "\n",
       "    .dataframe tbody tr th {\n",
       "        vertical-align: top;\n",
       "    }\n",
       "\n",
       "    .dataframe thead th {\n",
       "        text-align: right;\n",
       "    }\n",
       "</style>\n",
       "<table border=\"1\" class=\"dataframe\">\n",
       "  <thead>\n",
       "    <tr style=\"text-align: right;\">\n",
       "      <th></th>\n",
       "      <th>host_location</th>\n",
       "      <th>neighbourhood</th>\n",
       "      <th>property_type</th>\n",
       "      <th>room_type</th>\n",
       "      <th>amenities</th>\n",
       "      <th>host_is_superhost</th>\n",
       "      <th>accommodates</th>\n",
       "      <th>bedrooms</th>\n",
       "      <th>beds</th>\n",
       "      <th>price</th>\n",
       "      <th>minimum_nights</th>\n",
       "      <th>review_scores_rating</th>\n",
       "      <th>instant_bookable</th>\n",
       "    </tr>\n",
       "  </thead>\n",
       "  <tbody>\n",
       "    <tr>\n",
       "      <th>10801</th>\n",
       "      <td>?</td>\n",
       "      <td>?</td>\n",
       "      <td>Entire apartment</td>\n",
       "      <td>Entire home apt</td>\n",
       "      <td>Wifi, Elevator, Smoke alarm, TV, Iron, Free pa...</td>\n",
       "      <td>0</td>\n",
       "      <td>4</td>\n",
       "      <td>2</td>\n",
       "      <td>2</td>\n",
       "      <td>150.0</td>\n",
       "      <td>1</td>\n",
       "      <td>93.0</td>\n",
       "      <td>0</td>\n",
       "    </tr>\n",
       "    <tr>\n",
       "      <th>11318</th>\n",
       "      <td>?</td>\n",
       "      <td>?</td>\n",
       "      <td>Private room in house</td>\n",
       "      <td>Private room</td>\n",
       "      <td>Heating, Kitchen, Lock on bedroom door, Wifi, ...</td>\n",
       "      <td>0</td>\n",
       "      <td>1</td>\n",
       "      <td>1</td>\n",
       "      <td>1</td>\n",
       "      <td>17.0</td>\n",
       "      <td>1</td>\n",
       "      <td>40.0</td>\n",
       "      <td>0</td>\n",
       "    </tr>\n",
       "    <tr>\n",
       "      <th>12053</th>\n",
       "      <td>?</td>\n",
       "      <td>?</td>\n",
       "      <td>Entire apartment</td>\n",
       "      <td>Entire home apt</td>\n",
       "      <td>TV, Dedicated workspace, Heating, Cable TV, Fi...</td>\n",
       "      <td>0</td>\n",
       "      <td>1</td>\n",
       "      <td>1</td>\n",
       "      <td>1</td>\n",
       "      <td>100.0</td>\n",
       "      <td>1</td>\n",
       "      <td>93.0</td>\n",
       "      <td>0</td>\n",
       "    </tr>\n",
       "    <tr>\n",
       "      <th>12802</th>\n",
       "      <td>?</td>\n",
       "      <td>?</td>\n",
       "      <td>Private room in apartment</td>\n",
       "      <td>Private room</td>\n",
       "      <td>Iron, TV, Essentials, First aid kit, Kitchen, ...</td>\n",
       "      <td>0</td>\n",
       "      <td>2</td>\n",
       "      <td>1</td>\n",
       "      <td>1</td>\n",
       "      <td>120.0</td>\n",
       "      <td>1</td>\n",
       "      <td>93.0</td>\n",
       "      <td>0</td>\n",
       "    </tr>\n",
       "    <tr>\n",
       "      <th>14955</th>\n",
       "      <td>?</td>\n",
       "      <td>?</td>\n",
       "      <td>Entire apartment</td>\n",
       "      <td>Entire home apt</td>\n",
       "      <td>TV, Dedicated workspace, Heating, Smoke alarm,...</td>\n",
       "      <td>0</td>\n",
       "      <td>2</td>\n",
       "      <td>1</td>\n",
       "      <td>1</td>\n",
       "      <td>78.0</td>\n",
       "      <td>3</td>\n",
       "      <td>93.0</td>\n",
       "      <td>0</td>\n",
       "    </tr>\n",
       "    <tr>\n",
       "      <th>...</th>\n",
       "      <td>...</td>\n",
       "      <td>...</td>\n",
       "      <td>...</td>\n",
       "      <td>...</td>\n",
       "      <td>...</td>\n",
       "      <td>...</td>\n",
       "      <td>...</td>\n",
       "      <td>...</td>\n",
       "      <td>...</td>\n",
       "      <td>...</td>\n",
       "      <td>...</td>\n",
       "      <td>...</td>\n",
       "      <td>...</td>\n",
       "    </tr>\n",
       "    <tr>\n",
       "      <th>73148</th>\n",
       "      <td>?</td>\n",
       "      <td>?</td>\n",
       "      <td>Entire apartment</td>\n",
       "      <td>Entire home apt</td>\n",
       "      <td>Essentials, Dryer, Smoke alarm, Carbon monoxid...</td>\n",
       "      <td>0</td>\n",
       "      <td>2</td>\n",
       "      <td>1</td>\n",
       "      <td>1</td>\n",
       "      <td>50.0</td>\n",
       "      <td>1</td>\n",
       "      <td>100.0</td>\n",
       "      <td>0</td>\n",
       "    </tr>\n",
       "    <tr>\n",
       "      <th>73234</th>\n",
       "      <td>?</td>\n",
       "      <td>?</td>\n",
       "      <td>Private room in apartment</td>\n",
       "      <td>Private room</td>\n",
       "      <td>First aid kit, TV, Hair dryer, Private living ...</td>\n",
       "      <td>0</td>\n",
       "      <td>1</td>\n",
       "      <td>1</td>\n",
       "      <td>1</td>\n",
       "      <td>30.0</td>\n",
       "      <td>1</td>\n",
       "      <td>93.0</td>\n",
       "      <td>0</td>\n",
       "    </tr>\n",
       "    <tr>\n",
       "      <th>73608</th>\n",
       "      <td>?</td>\n",
       "      <td>?</td>\n",
       "      <td>Entire apartment</td>\n",
       "      <td>Entire home apt</td>\n",
       "      <td>Washer, Essentials, Wifi, Kitchen, Smoke alarm</td>\n",
       "      <td>0</td>\n",
       "      <td>2</td>\n",
       "      <td>1</td>\n",
       "      <td>1</td>\n",
       "      <td>59.0</td>\n",
       "      <td>1</td>\n",
       "      <td>100.0</td>\n",
       "      <td>1</td>\n",
       "    </tr>\n",
       "    <tr>\n",
       "      <th>74430</th>\n",
       "      <td>?</td>\n",
       "      <td>?</td>\n",
       "      <td>Entire house</td>\n",
       "      <td>Entire home apt</td>\n",
       "      <td>First aid kit, Hair dryer, Oven, Washer, Smoke...</td>\n",
       "      <td>0</td>\n",
       "      <td>10</td>\n",
       "      <td>5</td>\n",
       "      <td>6</td>\n",
       "      <td>1200.0</td>\n",
       "      <td>3</td>\n",
       "      <td>93.0</td>\n",
       "      <td>0</td>\n",
       "    </tr>\n",
       "    <tr>\n",
       "      <th>75602</th>\n",
       "      <td>?</td>\n",
       "      <td>?</td>\n",
       "      <td>Private room in apartment</td>\n",
       "      <td>Private room</td>\n",
       "      <td>First aid kit, TV, Lock on bedroom door, Eleva...</td>\n",
       "      <td>0</td>\n",
       "      <td>1</td>\n",
       "      <td>1</td>\n",
       "      <td>1</td>\n",
       "      <td>25.0</td>\n",
       "      <td>7</td>\n",
       "      <td>93.0</td>\n",
       "      <td>1</td>\n",
       "    </tr>\n",
       "  </tbody>\n",
       "</table>\n",
       "<p>101 rows × 13 columns</p>\n",
       "</div>"
      ],
      "text/plain": [
       "      host_location neighbourhood              property_type        room_type  \\\n",
       "10801             ?             ?           Entire apartment  Entire home apt   \n",
       "11318             ?             ?      Private room in house     Private room   \n",
       "12053             ?             ?           Entire apartment  Entire home apt   \n",
       "12802             ?             ?  Private room in apartment     Private room   \n",
       "14955             ?             ?           Entire apartment  Entire home apt   \n",
       "...             ...           ...                        ...              ...   \n",
       "73148             ?             ?           Entire apartment  Entire home apt   \n",
       "73234             ?             ?  Private room in apartment     Private room   \n",
       "73608             ?             ?           Entire apartment  Entire home apt   \n",
       "74430             ?             ?               Entire house  Entire home apt   \n",
       "75602             ?             ?  Private room in apartment     Private room   \n",
       "\n",
       "                                               amenities  host_is_superhost  \\\n",
       "10801  Wifi, Elevator, Smoke alarm, TV, Iron, Free pa...                  0   \n",
       "11318  Heating, Kitchen, Lock on bedroom door, Wifi, ...                  0   \n",
       "12053  TV, Dedicated workspace, Heating, Cable TV, Fi...                  0   \n",
       "12802  Iron, TV, Essentials, First aid kit, Kitchen, ...                  0   \n",
       "14955  TV, Dedicated workspace, Heating, Smoke alarm,...                  0   \n",
       "...                                                  ...                ...   \n",
       "73148  Essentials, Dryer, Smoke alarm, Carbon monoxid...                  0   \n",
       "73234  First aid kit, TV, Hair dryer, Private living ...                  0   \n",
       "73608     Washer, Essentials, Wifi, Kitchen, Smoke alarm                  0   \n",
       "74430  First aid kit, Hair dryer, Oven, Washer, Smoke...                  0   \n",
       "75602  First aid kit, TV, Lock on bedroom door, Eleva...                  0   \n",
       "\n",
       "       accommodates  bedrooms  beds   price  minimum_nights  \\\n",
       "10801             4         2     2   150.0               1   \n",
       "11318             1         1     1    17.0               1   \n",
       "12053             1         1     1   100.0               1   \n",
       "12802             2         1     1   120.0               1   \n",
       "14955             2         1     1    78.0               3   \n",
       "...             ...       ...   ...     ...             ...   \n",
       "73148             2         1     1    50.0               1   \n",
       "73234             1         1     1    30.0               1   \n",
       "73608             2         1     1    59.0               1   \n",
       "74430            10         5     6  1200.0               3   \n",
       "75602             1         1     1    25.0               7   \n",
       "\n",
       "       review_scores_rating  instant_bookable  \n",
       "10801                  93.0                 0  \n",
       "11318                  40.0                 0  \n",
       "12053                  93.0                 0  \n",
       "12802                  93.0                 0  \n",
       "14955                  93.0                 0  \n",
       "...                     ...               ...  \n",
       "73148                 100.0                 0  \n",
       "73234                  93.0                 0  \n",
       "73608                 100.0                 1  \n",
       "74430                  93.0                 0  \n",
       "75602                  93.0                 1  \n",
       "\n",
       "[101 rows x 13 columns]"
      ]
     },
     "execution_count": 56,
     "metadata": {},
     "output_type": "execute_result"
    }
   ],
   "source": [
    "#inspecting results\n",
    "new_data.loc[(new_data['host_location'] == \"?\")]"
   ]
  },
  {
   "cell_type": "code",
   "execution_count": 57,
   "id": "a08ad156",
   "metadata": {},
   "outputs": [],
   "source": [
    "# dropping  attribute neighbourhood at the column level\n",
    "# dropping 103 rows with \"?\" from data at the row level"
   ]
  },
  {
   "cell_type": "code",
   "execution_count": 58,
   "id": "8817dc1b",
   "metadata": {},
   "outputs": [],
   "source": [
    "new_data.drop(['neighbourhood'], axis= 1, inplace= True)"
   ]
  },
  {
   "cell_type": "code",
   "execution_count": 59,
   "id": "3c427613",
   "metadata": {},
   "outputs": [],
   "source": [
    "# rows with \"?\" deleted\n",
    "new_data.drop(new_data[new_data['host_location'] == \"?\"].index, axis= 0, inplace = True)"
   ]
  },
  {
   "cell_type": "code",
   "execution_count": 60,
   "id": "212145ea",
   "metadata": {},
   "outputs": [
    {
     "data": {
      "text/plain": [
       "host_location           0\n",
       "property_type           0\n",
       "room_type               0\n",
       "amenities               0\n",
       "host_is_superhost       0\n",
       "accommodates            0\n",
       "bedrooms                0\n",
       "beds                    0\n",
       "price                   0\n",
       "minimum_nights          0\n",
       "review_scores_rating    0\n",
       "instant_bookable        0\n",
       "dtype: int64"
      ]
     },
     "execution_count": 60,
     "metadata": {},
     "output_type": "execute_result"
    }
   ],
   "source": [
    "# inspecting changes\n",
    "new_data.isna().sum()"
   ]
  },
  {
   "cell_type": "markdown",
   "id": "dc7ba4b0",
   "metadata": {},
   "source": [
    "### Exploring relationships between Categorical Data\n",
    "\n",
    "Hypothesis <br>\n",
    "Null Hypothesis (Ho) — There is no relationship between features <br>\n",
    "\n",
    "\n",
    "Alternate Hypothesis (Ha) — There is a relationship between features"
   ]
  },
  {
   "cell_type": "code",
   "execution_count": 61,
   "id": "da4616bb",
   "metadata": {},
   "outputs": [],
   "source": [
    "## Importing required libraries\n",
    "import os as os\n",
    "import pandas as pd\n",
    "from itertools import product\n",
    "import numpy as np\n",
    "import scipy.stats as ss"
   ]
  },
  {
   "cell_type": "code",
   "execution_count": 62,
   "id": "bcc17f09",
   "metadata": {},
   "outputs": [
    {
     "data": {
      "text/plain": [
       "Index(['host_location', 'property_type', 'room_type', 'amenities',\n",
       "       'host_is_superhost', 'accommodates', 'bedrooms', 'beds', 'price',\n",
       "       'minimum_nights', 'review_scores_rating', 'instant_bookable'],\n",
       "      dtype='object')"
      ]
     },
     "execution_count": 62,
     "metadata": {},
     "output_type": "execute_result"
    }
   ],
   "source": [
    "new_data.columns"
   ]
  },
  {
   "cell_type": "code",
   "execution_count": 63,
   "id": "a5724444",
   "metadata": {},
   "outputs": [],
   "source": [
    "# rearranging dataframe to move label 'price' to the last column\n",
    "new_data = new_data[['host_location', 'property_type', 'room_type', 'amenities',\n",
    "       'host_is_superhost', 'accommodates', 'bedrooms', 'beds',\n",
    "       'minimum_nights', 'review_scores_rating', 'instant_bookable', 'price']]"
   ]
  },
  {
   "cell_type": "code",
   "execution_count": 381,
   "id": "17a2ec3c",
   "metadata": {},
   "outputs": [
    {
     "data": {
      "text/html": [
       "<div>\n",
       "<style scoped>\n",
       "    .dataframe tbody tr th:only-of-type {\n",
       "        vertical-align: middle;\n",
       "    }\n",
       "\n",
       "    .dataframe tbody tr th {\n",
       "        vertical-align: top;\n",
       "    }\n",
       "\n",
       "    .dataframe thead th {\n",
       "        text-align: right;\n",
       "    }\n",
       "</style>\n",
       "<table border=\"1\" class=\"dataframe\">\n",
       "  <thead>\n",
       "    <tr style=\"text-align: right;\">\n",
       "      <th></th>\n",
       "      <th>host_location</th>\n",
       "      <th>property_type</th>\n",
       "      <th>room_type</th>\n",
       "      <th>amenities</th>\n",
       "    </tr>\n",
       "  </thead>\n",
       "  <tbody>\n",
       "    <tr>\n",
       "      <th>0</th>\n",
       "      <td>London, England, United Kingdom</td>\n",
       "      <td>Entire apartment</td>\n",
       "      <td>Entire home apt</td>\n",
       "      <td>Refrigerator, Kitchen, Crib, Dedicated workspa...</td>\n",
       "    </tr>\n",
       "    <tr>\n",
       "      <th>1</th>\n",
       "      <td>London, England, United Kingdom</td>\n",
       "      <td>Private room in apartment</td>\n",
       "      <td>Private room</td>\n",
       "      <td>Long term stays allowed, Lock on bedroom door,...</td>\n",
       "    </tr>\n",
       "    <tr>\n",
       "      <th>2</th>\n",
       "      <td>Kensington, England, United Kingdom</td>\n",
       "      <td>Entire apartment</td>\n",
       "      <td>Entire home apt</td>\n",
       "      <td>Refrigerator, Wifi, Heating, Dishes and silver...</td>\n",
       "    </tr>\n",
       "    <tr>\n",
       "      <th>3</th>\n",
       "      <td>London, England, United Kingdom</td>\n",
       "      <td>Entire apartment</td>\n",
       "      <td>Entire home apt</td>\n",
       "      <td>Long term stays allowed, Elevator, Heating, Mi...</td>\n",
       "    </tr>\n",
       "    <tr>\n",
       "      <th>4</th>\n",
       "      <td>London, England, United Kingdom</td>\n",
       "      <td>Private room in townhouse</td>\n",
       "      <td>Private room</td>\n",
       "      <td>TV, Hair dryer, Lock on bedroom door, Carbon m...</td>\n",
       "    </tr>\n",
       "  </tbody>\n",
       "</table>\n",
       "</div>"
      ],
      "text/plain": [
       "                         host_location              property_type  \\\n",
       "0      London, England, United Kingdom           Entire apartment   \n",
       "1      London, England, United Kingdom  Private room in apartment   \n",
       "2  Kensington, England, United Kingdom           Entire apartment   \n",
       "3      London, England, United Kingdom           Entire apartment   \n",
       "4      London, England, United Kingdom  Private room in townhouse   \n",
       "\n",
       "         room_type                                          amenities  \n",
       "0  Entire home apt  Refrigerator, Kitchen, Crib, Dedicated workspa...  \n",
       "1     Private room  Long term stays allowed, Lock on bedroom door,...  \n",
       "2  Entire home apt  Refrigerator, Wifi, Heating, Dishes and silver...  \n",
       "3  Entire home apt  Long term stays allowed, Elevator, Heating, Mi...  \n",
       "4     Private room  TV, Hair dryer, Lock on bedroom door, Carbon m...  "
      ]
     },
     "execution_count": 381,
     "metadata": {},
     "output_type": "execute_result"
    }
   ],
   "source": [
    "## Creating a DataFrame with all categorical variables\n",
    "df_cat = pd.DataFrame(data = new_data.dtypes, columns = \n",
    "                                         ['a']).reset_index()\n",
    "cat_var = list(df_cat['index'].loc[df_cat['a'] == 'object'])\n",
    "cat_var\n",
    "\n",
    "df_cat = new_data[cat_var]\n",
    "df_cat.head()"
   ]
  },
  {
   "cell_type": "code",
   "execution_count": 382,
   "id": "a398bfa6",
   "metadata": {},
   "outputs": [],
   "source": [
    "## Let us split this list into two parts\n",
    "cat_var1 = ('host_location', 'property_type', 'room_type', 'amenities')\n",
    "cat_var2 = ('host_location', 'property_type', 'room_type', 'amenities')\n",
    "## Let us jump to Chi-Square test\n",
    "## Creating all possible combinations between the above two variables list\n",
    "cat_var_prod = list(product(cat_var1,cat_var2, repeat = 1))"
   ]
  },
  {
   "cell_type": "code",
   "execution_count": 383,
   "id": "ad3ea187",
   "metadata": {},
   "outputs": [
    {
     "data": {
      "text/plain": [
       "[('host_location', 'host_location'),\n",
       " ('host_location', 'property_type'),\n",
       " ('host_location', 'room_type'),\n",
       " ('host_location', 'amenities'),\n",
       " ('property_type', 'host_location'),\n",
       " ('property_type', 'property_type'),\n",
       " ('property_type', 'room_type'),\n",
       " ('property_type', 'amenities'),\n",
       " ('room_type', 'host_location'),\n",
       " ('room_type', 'property_type'),\n",
       " ('room_type', 'room_type'),\n",
       " ('room_type', 'amenities'),\n",
       " ('amenities', 'host_location'),\n",
       " ('amenities', 'property_type'),\n",
       " ('amenities', 'room_type'),\n",
       " ('amenities', 'amenities')]"
      ]
     },
     "execution_count": 383,
     "metadata": {},
     "output_type": "execute_result"
    }
   ],
   "source": [
    "cat_var_prod"
   ]
  },
  {
   "cell_type": "code",
   "execution_count": 384,
   "id": "d53cdd14",
   "metadata": {},
   "outputs": [],
   "source": [
    "result = []\n",
    "for i in cat_var_prod:\n",
    "    if i[0] != i[1]:\n",
    "        result.append((i[0],i[1],list(ss.chi2_contingency(pd.crosstab(\n",
    "                            df_cat[i[0]], df_cat[i[1]])))[1]))"
   ]
  },
  {
   "cell_type": "code",
   "execution_count": 385,
   "id": "bd737886",
   "metadata": {},
   "outputs": [
    {
     "data": {
      "text/plain": [
       "[('host_location', 'property_type', 0.0),\n",
       " ('host_location', 'room_type', 3.0021335963601845e-70),\n",
       " ('host_location', 'amenities', 0.0),\n",
       " ('property_type', 'host_location', 0.0),\n",
       " ('property_type', 'room_type', 0.0),\n",
       " ('property_type', 'amenities', 0.0),\n",
       " ('room_type', 'host_location', 3.0021335963601845e-70),\n",
       " ('room_type', 'property_type', 0.0),\n",
       " ('room_type', 'amenities', 4.439421024292063e-23),\n",
       " ('amenities', 'host_location', 0.0),\n",
       " ('amenities', 'property_type', 0.0),\n",
       " ('amenities', 'room_type', 4.439421024290183e-23)]"
      ]
     },
     "execution_count": 385,
     "metadata": {},
     "output_type": "execute_result"
    }
   ],
   "source": [
    "result"
   ]
  },
  {
   "cell_type": "code",
   "execution_count": 386,
   "id": "ca445585",
   "metadata": {},
   "outputs": [
    {
     "data": {
      "text/html": [
       "<div>\n",
       "<style scoped>\n",
       "    .dataframe tbody tr th:only-of-type {\n",
       "        vertical-align: middle;\n",
       "    }\n",
       "\n",
       "    .dataframe tbody tr th {\n",
       "        vertical-align: top;\n",
       "    }\n",
       "\n",
       "    .dataframe thead th {\n",
       "        text-align: right;\n",
       "    }\n",
       "</style>\n",
       "<table border=\"1\" class=\"dataframe\">\n",
       "  <thead>\n",
       "    <tr style=\"text-align: right;\">\n",
       "      <th>var2</th>\n",
       "      <th>amenities</th>\n",
       "      <th>host_location</th>\n",
       "      <th>property_type</th>\n",
       "      <th>room_type</th>\n",
       "    </tr>\n",
       "    <tr>\n",
       "      <th>var1</th>\n",
       "      <th></th>\n",
       "      <th></th>\n",
       "      <th></th>\n",
       "      <th></th>\n",
       "    </tr>\n",
       "  </thead>\n",
       "  <tbody>\n",
       "    <tr>\n",
       "      <th>amenities</th>\n",
       "      <td>NaN</td>\n",
       "      <td>0.000000e+00</td>\n",
       "      <td>0.0</td>\n",
       "      <td>4.439421e-23</td>\n",
       "    </tr>\n",
       "    <tr>\n",
       "      <th>host_location</th>\n",
       "      <td>0.000000e+00</td>\n",
       "      <td>NaN</td>\n",
       "      <td>0.0</td>\n",
       "      <td>3.002134e-70</td>\n",
       "    </tr>\n",
       "    <tr>\n",
       "      <th>property_type</th>\n",
       "      <td>0.000000e+00</td>\n",
       "      <td>0.000000e+00</td>\n",
       "      <td>NaN</td>\n",
       "      <td>0.000000e+00</td>\n",
       "    </tr>\n",
       "    <tr>\n",
       "      <th>room_type</th>\n",
       "      <td>4.439421e-23</td>\n",
       "      <td>3.002134e-70</td>\n",
       "      <td>0.0</td>\n",
       "      <td>NaN</td>\n",
       "    </tr>\n",
       "  </tbody>\n",
       "</table>\n",
       "</div>"
      ],
      "text/plain": [
       "var2              amenities  host_location  property_type     room_type\n",
       "var1                                                                   \n",
       "amenities               NaN   0.000000e+00            0.0  4.439421e-23\n",
       "host_location  0.000000e+00            NaN            0.0  3.002134e-70\n",
       "property_type  0.000000e+00   0.000000e+00            NaN  0.000000e+00\n",
       "room_type      4.439421e-23   3.002134e-70            0.0           NaN"
      ]
     },
     "execution_count": 386,
     "metadata": {},
     "output_type": "execute_result"
    }
   ],
   "source": [
    "# creating a table for our results\n",
    "chi_test_output = pd.DataFrame(result, columns = [\"var1\", \"var2\", \n",
    "                                                       \"coeff\"])\n",
    "## Using pivot function to convert the above DataFrame into a crosstab\n",
    "chi_test_output.pivot(index=\"var1\", columns=\"var2\", values=\"coeff\")"
   ]
  },
  {
   "cell_type": "markdown",
   "id": "38a1ff7c",
   "metadata": {},
   "source": [
    "Note: There exists a relationship between two variables if p value ≤ 0.05. <br>\n",
    "There p-value as seen from the table shows a strong relationship between all combinations which suggests a strong Multicollinearity.\n",
    "[Multicollinearity](\"https://www.investopedia.com/terms/m/multicollinearity.asp#:~:text=Multicollinearity%20is%20a%20statistical%20concept,in%20less%20reliable%20statistical%20inferences.) is a statistical concept where several independent variables in a model are correlated\") <br>\n",
    "\n",
    "It is safe to remove atleast two of this features and it will not impact negatively the outcome of our model."
   ]
  },
  {
   "cell_type": "markdown",
   "id": "2280f241",
   "metadata": {},
   "source": [
    "### Exploring relationships between numerical features"
   ]
  },
  {
   "cell_type": "code",
   "execution_count": 387,
   "id": "80c6334d",
   "metadata": {},
   "outputs": [
    {
     "data": {
      "text/html": [
       "<div>\n",
       "<style scoped>\n",
       "    .dataframe tbody tr th:only-of-type {\n",
       "        vertical-align: middle;\n",
       "    }\n",
       "\n",
       "    .dataframe tbody tr th {\n",
       "        vertical-align: top;\n",
       "    }\n",
       "\n",
       "    .dataframe thead th {\n",
       "        text-align: right;\n",
       "    }\n",
       "</style>\n",
       "<table border=\"1\" class=\"dataframe\">\n",
       "  <thead>\n",
       "    <tr style=\"text-align: right;\">\n",
       "      <th></th>\n",
       "      <th>host_is_superhost</th>\n",
       "      <th>accommodates</th>\n",
       "      <th>bedrooms</th>\n",
       "      <th>beds</th>\n",
       "      <th>minimum_nights</th>\n",
       "      <th>review_scores_rating</th>\n",
       "      <th>instant_bookable</th>\n",
       "    </tr>\n",
       "  </thead>\n",
       "  <tbody>\n",
       "    <tr>\n",
       "      <th>0</th>\n",
       "      <td>0</td>\n",
       "      <td>4</td>\n",
       "      <td>1</td>\n",
       "      <td>3</td>\n",
       "      <td>2</td>\n",
       "      <td>91.0</td>\n",
       "      <td>1</td>\n",
       "    </tr>\n",
       "    <tr>\n",
       "      <th>1</th>\n",
       "      <td>0</td>\n",
       "      <td>2</td>\n",
       "      <td>1</td>\n",
       "      <td>1</td>\n",
       "      <td>1</td>\n",
       "      <td>97.0</td>\n",
       "      <td>0</td>\n",
       "    </tr>\n",
       "    <tr>\n",
       "      <th>2</th>\n",
       "      <td>0</td>\n",
       "      <td>2</td>\n",
       "      <td>1</td>\n",
       "      <td>1</td>\n",
       "      <td>10</td>\n",
       "      <td>96.0</td>\n",
       "      <td>1</td>\n",
       "    </tr>\n",
       "    <tr>\n",
       "      <th>3</th>\n",
       "      <td>1</td>\n",
       "      <td>6</td>\n",
       "      <td>3</td>\n",
       "      <td>3</td>\n",
       "      <td>4</td>\n",
       "      <td>94.0</td>\n",
       "      <td>0</td>\n",
       "    </tr>\n",
       "    <tr>\n",
       "      <th>4</th>\n",
       "      <td>0</td>\n",
       "      <td>2</td>\n",
       "      <td>1</td>\n",
       "      <td>1</td>\n",
       "      <td>3</td>\n",
       "      <td>93.0</td>\n",
       "      <td>0</td>\n",
       "    </tr>\n",
       "    <tr>\n",
       "      <th>...</th>\n",
       "      <td>...</td>\n",
       "      <td>...</td>\n",
       "      <td>...</td>\n",
       "      <td>...</td>\n",
       "      <td>...</td>\n",
       "      <td>...</td>\n",
       "      <td>...</td>\n",
       "    </tr>\n",
       "    <tr>\n",
       "      <th>76601</th>\n",
       "      <td>0</td>\n",
       "      <td>4</td>\n",
       "      <td>2</td>\n",
       "      <td>2</td>\n",
       "      <td>3</td>\n",
       "      <td>93.0</td>\n",
       "      <td>1</td>\n",
       "    </tr>\n",
       "    <tr>\n",
       "      <th>76602</th>\n",
       "      <td>0</td>\n",
       "      <td>2</td>\n",
       "      <td>1</td>\n",
       "      <td>1</td>\n",
       "      <td>3</td>\n",
       "      <td>100.0</td>\n",
       "      <td>1</td>\n",
       "    </tr>\n",
       "    <tr>\n",
       "      <th>76603</th>\n",
       "      <td>0</td>\n",
       "      <td>4</td>\n",
       "      <td>2</td>\n",
       "      <td>4</td>\n",
       "      <td>4</td>\n",
       "      <td>93.0</td>\n",
       "      <td>0</td>\n",
       "    </tr>\n",
       "    <tr>\n",
       "      <th>76604</th>\n",
       "      <td>0</td>\n",
       "      <td>4</td>\n",
       "      <td>2</td>\n",
       "      <td>2</td>\n",
       "      <td>3</td>\n",
       "      <td>93.0</td>\n",
       "      <td>0</td>\n",
       "    </tr>\n",
       "    <tr>\n",
       "      <th>76605</th>\n",
       "      <td>0</td>\n",
       "      <td>2</td>\n",
       "      <td>1</td>\n",
       "      <td>1</td>\n",
       "      <td>2</td>\n",
       "      <td>93.0</td>\n",
       "      <td>0</td>\n",
       "    </tr>\n",
       "  </tbody>\n",
       "</table>\n",
       "<p>76153 rows × 7 columns</p>\n",
       "</div>"
      ],
      "text/plain": [
       "       host_is_superhost  accommodates  bedrooms  beds  minimum_nights  \\\n",
       "0                      0             4         1     3               2   \n",
       "1                      0             2         1     1               1   \n",
       "2                      0             2         1     1              10   \n",
       "3                      1             6         3     3               4   \n",
       "4                      0             2         1     1               3   \n",
       "...                  ...           ...       ...   ...             ...   \n",
       "76601                  0             4         2     2               3   \n",
       "76602                  0             2         1     1               3   \n",
       "76603                  0             4         2     4               4   \n",
       "76604                  0             4         2     2               3   \n",
       "76605                  0             2         1     1               2   \n",
       "\n",
       "       review_scores_rating  instant_bookable  \n",
       "0                      91.0                 1  \n",
       "1                      97.0                 0  \n",
       "2                      96.0                 1  \n",
       "3                      94.0                 0  \n",
       "4                      93.0                 0  \n",
       "...                     ...               ...  \n",
       "76601                  93.0                 1  \n",
       "76602                 100.0                 1  \n",
       "76603                  93.0                 0  \n",
       "76604                  93.0                 0  \n",
       "76605                  93.0                 0  \n",
       "\n",
       "[76153 rows x 7 columns]"
      ]
     },
     "execution_count": 387,
     "metadata": {},
     "output_type": "execute_result"
    }
   ],
   "source": [
    "new_data.iloc[:, 4:-1]"
   ]
  },
  {
   "cell_type": "code",
   "execution_count": 388,
   "id": "cba7bc76",
   "metadata": {},
   "outputs": [
    {
     "data": {
      "text/html": [
       "<div>\n",
       "<style scoped>\n",
       "    .dataframe tbody tr th:only-of-type {\n",
       "        vertical-align: middle;\n",
       "    }\n",
       "\n",
       "    .dataframe tbody tr th {\n",
       "        vertical-align: top;\n",
       "    }\n",
       "\n",
       "    .dataframe thead th {\n",
       "        text-align: right;\n",
       "    }\n",
       "</style>\n",
       "<table border=\"1\" class=\"dataframe\">\n",
       "  <thead>\n",
       "    <tr style=\"text-align: right;\">\n",
       "      <th></th>\n",
       "      <th>host_is_superhost</th>\n",
       "      <th>accommodates</th>\n",
       "      <th>bedrooms</th>\n",
       "      <th>beds</th>\n",
       "      <th>minimum_nights</th>\n",
       "      <th>review_scores_rating</th>\n",
       "      <th>instant_bookable</th>\n",
       "    </tr>\n",
       "  </thead>\n",
       "  <tbody>\n",
       "    <tr>\n",
       "      <th>host_is_superhost</th>\n",
       "      <td>1.000000</td>\n",
       "      <td>-0.013163</td>\n",
       "      <td>-0.028372</td>\n",
       "      <td>-0.011303</td>\n",
       "      <td>0.000088</td>\n",
       "      <td>0.179197</td>\n",
       "      <td>-0.026567</td>\n",
       "    </tr>\n",
       "    <tr>\n",
       "      <th>accommodates</th>\n",
       "      <td>-0.013163</td>\n",
       "      <td>1.000000</td>\n",
       "      <td>0.797192</td>\n",
       "      <td>0.819905</td>\n",
       "      <td>-0.003628</td>\n",
       "      <td>-0.029478</td>\n",
       "      <td>-0.008045</td>\n",
       "    </tr>\n",
       "    <tr>\n",
       "      <th>bedrooms</th>\n",
       "      <td>-0.028372</td>\n",
       "      <td>0.797192</td>\n",
       "      <td>1.000000</td>\n",
       "      <td>0.781651</td>\n",
       "      <td>0.011762</td>\n",
       "      <td>0.010496</td>\n",
       "      <td>-0.038183</td>\n",
       "    </tr>\n",
       "    <tr>\n",
       "      <th>beds</th>\n",
       "      <td>-0.011303</td>\n",
       "      <td>0.819905</td>\n",
       "      <td>0.781651</td>\n",
       "      <td>1.000000</td>\n",
       "      <td>0.001700</td>\n",
       "      <td>-0.022118</td>\n",
       "      <td>0.000149</td>\n",
       "    </tr>\n",
       "    <tr>\n",
       "      <th>minimum_nights</th>\n",
       "      <td>0.000088</td>\n",
       "      <td>-0.003628</td>\n",
       "      <td>0.011762</td>\n",
       "      <td>0.001700</td>\n",
       "      <td>1.000000</td>\n",
       "      <td>0.002786</td>\n",
       "      <td>-0.024611</td>\n",
       "    </tr>\n",
       "    <tr>\n",
       "      <th>review_scores_rating</th>\n",
       "      <td>0.179197</td>\n",
       "      <td>-0.029478</td>\n",
       "      <td>0.010496</td>\n",
       "      <td>-0.022118</td>\n",
       "      <td>0.002786</td>\n",
       "      <td>1.000000</td>\n",
       "      <td>-0.088537</td>\n",
       "    </tr>\n",
       "    <tr>\n",
       "      <th>instant_bookable</th>\n",
       "      <td>-0.026567</td>\n",
       "      <td>-0.008045</td>\n",
       "      <td>-0.038183</td>\n",
       "      <td>0.000149</td>\n",
       "      <td>-0.024611</td>\n",
       "      <td>-0.088537</td>\n",
       "      <td>1.000000</td>\n",
       "    </tr>\n",
       "  </tbody>\n",
       "</table>\n",
       "</div>"
      ],
      "text/plain": [
       "                      host_is_superhost  accommodates  bedrooms      beds  \\\n",
       "host_is_superhost              1.000000     -0.013163 -0.028372 -0.011303   \n",
       "accommodates                  -0.013163      1.000000  0.797192  0.819905   \n",
       "bedrooms                      -0.028372      0.797192  1.000000  0.781651   \n",
       "beds                          -0.011303      0.819905  0.781651  1.000000   \n",
       "minimum_nights                 0.000088     -0.003628  0.011762  0.001700   \n",
       "review_scores_rating           0.179197     -0.029478  0.010496 -0.022118   \n",
       "instant_bookable              -0.026567     -0.008045 -0.038183  0.000149   \n",
       "\n",
       "                      minimum_nights  review_scores_rating  instant_bookable  \n",
       "host_is_superhost           0.000088              0.179197         -0.026567  \n",
       "accommodates               -0.003628             -0.029478         -0.008045  \n",
       "bedrooms                    0.011762              0.010496         -0.038183  \n",
       "beds                        0.001700             -0.022118          0.000149  \n",
       "minimum_nights              1.000000              0.002786         -0.024611  \n",
       "review_scores_rating        0.002786              1.000000         -0.088537  \n",
       "instant_bookable           -0.024611             -0.088537          1.000000  "
      ]
     },
     "execution_count": 388,
     "metadata": {},
     "output_type": "execute_result"
    }
   ],
   "source": [
    "# numeric features correlation table\n",
    "num_var = new_data.iloc[:, 4:-1]\n",
    "num_var.corr()"
   ]
  },
  {
   "cell_type": "code",
   "execution_count": 37,
   "id": "2e76273f",
   "metadata": {},
   "outputs": [
    {
     "data": {
      "image/png": "[encoded data removed]",
      "text/plain": [
       "<Figure size 432x288 with 2 Axes>"
      ]
     },
     "metadata": {
      "needs_background": "light"
     },
     "output_type": "display_data"
    }
   ],
   "source": [
    "dataplot = sns.heatmap(num_var.corr(), cmap=\"YlGnBu\", annot=True)\n",
    "plt.show()"
   ]
  },
  {
   "cell_type": "markdown",
   "id": "34e26583",
   "metadata": {},
   "source": [
    "Using 80% or higher as a base to represent either positive or negative relationship between features. The correlation map reveals strong relationship between \"accommodates\", \"bedrooms\", \"beds\". We may confidently leave out \n",
    "one of these three in our model training, it will likely not impact the outcome of the model. However, it is imperative to conduct another test for confirmation for consistency using p value ≤ 0.05 as implemented in categorical variables in a pairwise ttest."
   ]
  },
  {
   "cell_type": "code",
   "execution_count": 389,
   "id": "e945aaa1",
   "metadata": {},
   "outputs": [
    {
     "name": "stdout",
     "output_type": "stream",
     "text": [
      "[('host_is_superhost', 'accommodates'), ('host_is_superhost', 'bedrooms'), ('host_is_superhost', 'beds'), ('host_is_superhost', 'minimum_nights'), ('host_is_superhost', 'review_scores_rating'), ('host_is_superhost', 'instant_bookable'), ('accommodates', 'bedrooms'), ('accommodates', 'beds'), ('accommodates', 'minimum_nights'), ('accommodates', 'review_scores_rating'), ('accommodates', 'instant_bookable'), ('bedrooms', 'beds'), ('bedrooms', 'minimum_nights'), ('bedrooms', 'review_scores_rating'), ('bedrooms', 'instant_bookable'), ('beds', 'minimum_nights'), ('beds', 'review_scores_rating'), ('beds', 'instant_bookable'), ('minimum_nights', 'review_scores_rating'), ('minimum_nights', 'instant_bookable'), ('review_scores_rating', 'instant_bookable')]\n"
     ]
    }
   ],
   "source": [
    "## Creating a pairwise combination with all numeric features\n",
    "import itertools\n",
    "s = itertools.combinations(num_var, 2)\n",
    "s = list(s)\n",
    "print(s)"
   ]
  },
  {
   "cell_type": "code",
   "execution_count": 390,
   "id": "3f7716f2",
   "metadata": {},
   "outputs": [],
   "source": [
    "result_2 = []\n",
    "for i in s:\n",
    "    if i[0] != i[1]:\n",
    "        result_2.append(ss.ttest_ind(\n",
    "                            num_var[i[0]], num_var[i[1]]))"
   ]
  },
  {
   "cell_type": "code",
   "execution_count": 391,
   "id": "f1e7874a",
   "metadata": {},
   "outputs": [
    {
     "data": {
      "text/plain": [
       "[Ttest_indResult(statistic=-410.8684754269674, pvalue=0.0),\n",
       " Ttest_indResult(statistic=-401.43271096603746, pvalue=0.0),\n",
       " Ttest_indResult(statistic=-348.6361125687424, pvalue=0.0),\n",
       " Ttest_indResult(statistic=-63.65754662912248, pvalue=0.0),\n",
       " Ttest_indResult(statistic=-2932.899975835616, pvalue=0.0),\n",
       " Ttest_indResult(statistic=-102.27173006440538, pvalue=0.0),\n",
       " Ttest_indResult(statistic=210.82016191212728, pvalue=0.0),\n",
       " Ttest_indResult(statistic=160.3332593319746, pvalue=0.0),\n",
       " Ttest_indResult(statistic=-26.39903415689923, pvalue=3.119119508162719e-153),\n",
       " Ttest_indResult(statistic=-2775.9321305270537, pvalue=0.0),\n",
       " Ttest_indResult(statistic=374.6030675451365, pvalue=0.0),\n",
       " Ttest_indResult(statistic=-52.73448478653465, pvalue=0.0),\n",
       " Ttest_indResult(statistic=-46.90458806031357, pvalue=0.0),\n",
       " Ttest_indResult(statistic=-2880.623697311922, pvalue=0.0),\n",
       " Ttest_indResult(statistic=313.87263624589934, pvalue=0.0),\n",
       " Ttest_indResult(statistic=-43.29174197965434, pvalue=0.0),\n",
       " Ttest_indResult(statistic=-2857.3412710029183, pvalue=0.0),\n",
       " Ttest_indResult(statistic=290.7382882079257, pvalue=0.0),\n",
       " Ttest_indResult(statistic=-1037.1639815655071, pvalue=0.0),\n",
       " Ttest_indResult(statistic=60.84628729945596, pvalue=0.0),\n",
       " Ttest_indResult(statistic=2923.857560601808, pvalue=0.0)]"
      ]
     },
     "execution_count": 391,
     "metadata": {},
     "output_type": "execute_result"
    }
   ],
   "source": [
    "result_2"
   ]
  },
  {
   "cell_type": "markdown",
   "id": "1f0b18e6",
   "metadata": {},
   "source": [
    "The result_2 above shows that the pariwise combination of all features in a pairwise ttest are statistically significant \n",
    "with p-value <= 0.05. \n"
   ]
  },
  {
   "cell_type": "markdown",
   "id": "3657686d",
   "metadata": {},
   "source": [
    "## Post Hoc Test\n",
    "This test is to double check the result of the assertion the ttest made that there is strong relationship between features."
   ]
  },
  {
   "cell_type": "markdown",
   "id": "a6eb1990",
   "metadata": {},
   "source": [
    "## Bonferroni Test"
   ]
  },
  {
   "cell_type": "markdown",
   "id": "09f3b5f5",
   "metadata": {},
   "source": [
    "This test is used to reduce the alpha further by dividing the default alpha (0.05) by the number of pairings \n",
    "to test the relationship between the features."
   ]
  },
  {
   "cell_type": "code",
   "execution_count": 392,
   "id": "2656ddb4",
   "metadata": {},
   "outputs": [
    {
     "name": "stdout",
     "output_type": "stream",
     "text": [
      "The new alpha is:  0.002380952380952381\n"
     ]
    }
   ],
   "source": [
    "Bonferrini_corrected_alpha = 0.05/21\n",
    "print('The new alpha is: ', Bonferrini_corrected_alpha)"
   ]
  },
  {
   "cell_type": "code",
   "execution_count": 393,
   "id": "1ec85507",
   "metadata": {},
   "outputs": [
    {
     "name": "stdout",
     "output_type": "stream",
     "text": [
      "Test rejects H0 and accepts H1 Ttest_indResult(statistic=-410.8684754269674, pvalue=0.0)\n",
      "Test rejects H0 and accepts H1 Ttest_indResult(statistic=-401.43271096603746, pvalue=0.0)\n",
      "Test rejects H0 and accepts H1 Ttest_indResult(statistic=-348.6361125687424, pvalue=0.0)\n",
      "Test rejects H0 and accepts H1 Ttest_indResult(statistic=-63.65754662912248, pvalue=0.0)\n",
      "Test rejects H0 and accepts H1 Ttest_indResult(statistic=-2932.899975835616, pvalue=0.0)\n",
      "Test rejects H0 and accepts H1 Ttest_indResult(statistic=-102.27173006440538, pvalue=0.0)\n",
      "Test rejects H0 and accepts H1 Ttest_indResult(statistic=210.82016191212728, pvalue=0.0)\n",
      "Test rejects H0 and accepts H1 Ttest_indResult(statistic=160.3332593319746, pvalue=0.0)\n",
      "Test rejects H0 and accepts H1 Ttest_indResult(statistic=-26.39903415689923, pvalue=3.119119508162719e-153)\n",
      "Test rejects H0 and accepts H1 Ttest_indResult(statistic=-2775.9321305270537, pvalue=0.0)\n",
      "Test rejects H0 and accepts H1 Ttest_indResult(statistic=374.6030675451365, pvalue=0.0)\n",
      "Test rejects H0 and accepts H1 Ttest_indResult(statistic=-52.73448478653465, pvalue=0.0)\n",
      "Test rejects H0 and accepts H1 Ttest_indResult(statistic=-46.90458806031357, pvalue=0.0)\n",
      "Test rejects H0 and accepts H1 Ttest_indResult(statistic=-2880.623697311922, pvalue=0.0)\n",
      "Test rejects H0 and accepts H1 Ttest_indResult(statistic=313.87263624589934, pvalue=0.0)\n",
      "Test rejects H0 and accepts H1 Ttest_indResult(statistic=-43.29174197965434, pvalue=0.0)\n",
      "Test rejects H0 and accepts H1 Ttest_indResult(statistic=-2857.3412710029183, pvalue=0.0)\n",
      "Test rejects H0 and accepts H1 Ttest_indResult(statistic=290.7382882079257, pvalue=0.0)\n",
      "Test rejects H0 and accepts H1 Ttest_indResult(statistic=-1037.1639815655071, pvalue=0.0)\n",
      "Test rejects H0 and accepts H1 Ttest_indResult(statistic=60.84628729945596, pvalue=0.0)\n",
      "Test rejects H0 and accepts H1 Ttest_indResult(statistic=2923.857560601808, pvalue=0.0)\n"
     ]
    }
   ],
   "source": [
    "p_value = []\n",
    "for i in (result_2):\n",
    "    if i[1] <= Bonferrini_corrected_alpha:\n",
    "            print(\"Test rejects H0 and accepts H1\", i)\n",
    "            \n",
    "    else:\n",
    "        print(\"Tests fails to reject Null Hypothesis(H0), --None is equal to or less than 0.0024\")"
   ]
  },
  {
   "cell_type": "markdown",
   "id": "879a1270",
   "metadata": {},
   "source": [
    "## Text Cleaning"
   ]
  },
  {
   "cell_type": "code",
   "execution_count": 70,
   "id": "fd6150bf",
   "metadata": {},
   "outputs": [],
   "source": [
    "new_data['amenities'] = [str (item) for item in new_data['amenities']]"
   ]
  },
  {
   "cell_type": "code",
   "execution_count": 73,
   "id": "81729a9e",
   "metadata": {},
   "outputs": [],
   "source": [
    "new_data.dropna(inplace = True)"
   ]
  },
  {
   "cell_type": "code",
   "execution_count": 403,
   "id": "9d91a9de",
   "metadata": {},
   "outputs": [],
   "source": [
    "#new_data['amenitiesss'] = ' '.join(x for x in new_data['amenities'] if x.isalpha())"
   ]
  },
  {
   "cell_type": "code",
   "execution_count": 69,
   "id": "27a20e13",
   "metadata": {},
   "outputs": [],
   "source": [
    "#new_data.drop([10803], axis=0, inplace=True)"
   ]
  },
  {
   "cell_type": "code",
   "execution_count": 68,
   "id": "8dd145ea",
   "metadata": {},
   "outputs": [
    {
     "data": {
      "text/html": [
       "<div>\n",
       "<style scoped>\n",
       "    .dataframe tbody tr th:only-of-type {\n",
       "        vertical-align: middle;\n",
       "    }\n",
       "\n",
       "    .dataframe tbody tr th {\n",
       "        vertical-align: top;\n",
       "    }\n",
       "\n",
       "    .dataframe thead th {\n",
       "        text-align: right;\n",
       "    }\n",
       "</style>\n",
       "<table border=\"1\" class=\"dataframe\">\n",
       "  <thead>\n",
       "    <tr style=\"text-align: right;\">\n",
       "      <th></th>\n",
       "      <th>host_location</th>\n",
       "      <th>property_type</th>\n",
       "      <th>room_type</th>\n",
       "      <th>amenities</th>\n",
       "      <th>host_is_superhost</th>\n",
       "      <th>accommodates</th>\n",
       "      <th>bedrooms</th>\n",
       "      <th>beds</th>\n",
       "      <th>minimum_nights</th>\n",
       "      <th>review_scores_rating</th>\n",
       "      <th>instant_bookable</th>\n",
       "      <th>price</th>\n",
       "    </tr>\n",
       "  </thead>\n",
       "  <tbody>\n",
       "    <tr>\n",
       "      <th>10802</th>\n",
       "      <td>England, United Kingdom</td>\n",
       "      <td>Entire apartment</td>\n",
       "      <td>Entire home apt</td>\n",
       "      <td>Host greets you, Refrigerator, Microwave, Wifi...</td>\n",
       "      <td>0</td>\n",
       "      <td>2</td>\n",
       "      <td>1</td>\n",
       "      <td>1</td>\n",
       "      <td>5</td>\n",
       "      <td>95.0</td>\n",
       "      <td>0</td>\n",
       "      <td>70.0</td>\n",
       "    </tr>\n",
       "  </tbody>\n",
       "</table>\n",
       "</div>"
      ],
      "text/plain": [
       "                 host_location     property_type        room_type  \\\n",
       "10802  England, United Kingdom  Entire apartment  Entire home apt   \n",
       "\n",
       "                                               amenities  host_is_superhost  \\\n",
       "10802  Host greets you, Refrigerator, Microwave, Wifi...                  0   \n",
       "\n",
       "       accommodates  bedrooms  beds  minimum_nights  review_scores_rating  \\\n",
       "10802             2         1     1               5                  95.0   \n",
       "\n",
       "       instant_bookable  price  \n",
       "10802                 0   70.0  "
      ]
     },
     "execution_count": 68,
     "metadata": {},
     "output_type": "execute_result"
    }
   ],
   "source": [
    "new_data.iloc[[10801]]"
   ]
  },
  {
   "cell_type": "code",
   "execution_count": 71,
   "id": "20db6e6a",
   "metadata": {},
   "outputs": [],
   "source": [
    "enableStopwords = True\n",
    "if enableStopwords:\n",
    "    new_data['amenities'] = new_data['amenities'].str.replace('!@\\#$%|~^\".&*/', \"\", regex=False)\n",
    "    new_data.head(2)"
   ]
  },
  {
   "cell_type": "code",
   "execution_count": 74,
   "id": "7aaa4bfc",
   "metadata": {},
   "outputs": [
    {
     "name": "stderr",
     "output_type": "stream",
     "text": [
      "[nltk_data] Downloading package stopwords to\n",
      "[nltk_data]     C:\\Users\\pc\\AppData\\Roaming\\nltk_data...\n",
      "[nltk_data]   Package stopwords is already up-to-date!\n"
     ]
    },
    {
     "ename": "KeyError",
     "evalue": "10801",
     "output_type": "error",
     "traceback": [
      "\u001b[1;31m---------------------------------------------------------------------------\u001b[0m",
      "\u001b[1;31mKeyError\u001b[0m                                  Traceback (most recent call last)",
      "\u001b[1;32m~\\AppData\\Roaming\\Python\\Python38\\site-packages\\pandas\\core\\indexes\\base.py\u001b[0m in \u001b[0;36mget_loc\u001b[1;34m(self, key, method, tolerance)\u001b[0m\n\u001b[0;32m   3801\u001b[0m             \u001b[1;32mtry\u001b[0m\u001b[1;33m:\u001b[0m\u001b[1;33m\u001b[0m\u001b[1;33m\u001b[0m\u001b[0m\n\u001b[1;32m-> 3802\u001b[1;33m                 \u001b[1;32mreturn\u001b[0m \u001b[0mself\u001b[0m\u001b[1;33m.\u001b[0m\u001b[0m_engine\u001b[0m\u001b[1;33m.\u001b[0m\u001b[0mget_loc\u001b[0m\u001b[1;33m(\u001b[0m\u001b[0mcasted_key\u001b[0m\u001b[1;33m)\u001b[0m\u001b[1;33m\u001b[0m\u001b[1;33m\u001b[0m\u001b[0m\n\u001b[0m\u001b[0;32m   3803\u001b[0m             \u001b[1;32mexcept\u001b[0m \u001b[0mKeyError\u001b[0m \u001b[1;32mas\u001b[0m \u001b[0merr\u001b[0m\u001b[1;33m:\u001b[0m\u001b[1;33m\u001b[0m\u001b[1;33m\u001b[0m\u001b[0m\n",
      "\u001b[1;32m~\\AppData\\Roaming\\Python\\Python38\\site-packages\\pandas\\_libs\\index.pyx\u001b[0m in \u001b[0;36mpandas._libs.index.IndexEngine.get_loc\u001b[1;34m()\u001b[0m\n",
      "\u001b[1;32m~\\AppData\\Roaming\\Python\\Python38\\site-packages\\pandas\\_libs\\index.pyx\u001b[0m in \u001b[0;36mpandas._libs.index.IndexEngine.get_loc\u001b[1;34m()\u001b[0m\n",
      "\u001b[1;32mpandas\\_libs\\hashtable_class_helper.pxi\u001b[0m in \u001b[0;36mpandas._libs.hashtable.Int64HashTable.get_item\u001b[1;34m()\u001b[0m\n",
      "\u001b[1;32mpandas\\_libs\\hashtable_class_helper.pxi\u001b[0m in \u001b[0;36mpandas._libs.hashtable.Int64HashTable.get_item\u001b[1;34m()\u001b[0m\n",
      "\u001b[1;31mKeyError\u001b[0m: 10801",
      "\nThe above exception was the direct cause of the following exception:\n",
      "\u001b[1;31mKeyError\u001b[0m                                  Traceback (most recent call last)",
      "\u001b[1;32m<ipython-input-74-5486c85a1e7b>\u001b[0m in \u001b[0;36m<module>\u001b[1;34m\u001b[0m\n\u001b[0;32m      6\u001b[0m \u001b[0mcorpus\u001b[0m \u001b[1;33m=\u001b[0m \u001b[1;33m[\u001b[0m\u001b[1;33m]\u001b[0m\u001b[1;33m\u001b[0m\u001b[1;33m\u001b[0m\u001b[0m\n\u001b[0;32m      7\u001b[0m \u001b[1;32mfor\u001b[0m \u001b[0mi\u001b[0m \u001b[1;32min\u001b[0m \u001b[0mrange\u001b[0m\u001b[1;33m(\u001b[0m\u001b[1;36m0\u001b[0m\u001b[1;33m,\u001b[0m \u001b[1;36m76153\u001b[0m\u001b[1;33m)\u001b[0m\u001b[1;33m:\u001b[0m\u001b[1;33m\u001b[0m\u001b[1;33m\u001b[0m\u001b[0m\n\u001b[1;32m----> 8\u001b[1;33m     \u001b[0mamenities\u001b[0m \u001b[1;33m=\u001b[0m \u001b[0mre\u001b[0m\u001b[1;33m.\u001b[0m\u001b[0msub\u001b[0m\u001b[1;33m(\u001b[0m\u001b[1;34m'[^a-zA-Z]'\u001b[0m\u001b[1;33m,\u001b[0m \u001b[1;34m' '\u001b[0m\u001b[1;33m,\u001b[0m \u001b[0mnew_data\u001b[0m\u001b[1;33m[\u001b[0m\u001b[1;34m'amenities'\u001b[0m\u001b[1;33m]\u001b[0m\u001b[1;33m[\u001b[0m\u001b[0mi\u001b[0m\u001b[1;33m]\u001b[0m\u001b[1;33m)\u001b[0m\u001b[1;33m\u001b[0m\u001b[1;33m\u001b[0m\u001b[0m\n\u001b[0m\u001b[0;32m      9\u001b[0m     \u001b[0mamenities\u001b[0m \u001b[1;33m=\u001b[0m \u001b[0mamenities\u001b[0m\u001b[1;33m.\u001b[0m\u001b[0mlower\u001b[0m\u001b[1;33m(\u001b[0m\u001b[1;33m)\u001b[0m\u001b[1;33m\u001b[0m\u001b[1;33m\u001b[0m\u001b[0m\n\u001b[0;32m     10\u001b[0m     \u001b[0mamenities\u001b[0m \u001b[1;33m=\u001b[0m \u001b[0mamenities\u001b[0m\u001b[1;33m.\u001b[0m\u001b[0msplit\u001b[0m\u001b[1;33m(\u001b[0m\u001b[1;33m)\u001b[0m\u001b[1;33m\u001b[0m\u001b[1;33m\u001b[0m\u001b[0m\n",
      "\u001b[1;32m~\\AppData\\Roaming\\Python\\Python38\\site-packages\\pandas\\core\\series.py\u001b[0m in \u001b[0;36m__getitem__\u001b[1;34m(self, key)\u001b[0m\n\u001b[0;32m    979\u001b[0m \u001b[1;33m\u001b[0m\u001b[0m\n\u001b[0;32m    980\u001b[0m         \u001b[1;32melif\u001b[0m \u001b[0mkey_is_scalar\u001b[0m\u001b[1;33m:\u001b[0m\u001b[1;33m\u001b[0m\u001b[1;33m\u001b[0m\u001b[0m\n\u001b[1;32m--> 981\u001b[1;33m             \u001b[1;32mreturn\u001b[0m \u001b[0mself\u001b[0m\u001b[1;33m.\u001b[0m\u001b[0m_get_value\u001b[0m\u001b[1;33m(\u001b[0m\u001b[0mkey\u001b[0m\u001b[1;33m)\u001b[0m\u001b[1;33m\u001b[0m\u001b[1;33m\u001b[0m\u001b[0m\n\u001b[0m\u001b[0;32m    982\u001b[0m \u001b[1;33m\u001b[0m\u001b[0m\n\u001b[0;32m    983\u001b[0m         \u001b[1;32mif\u001b[0m \u001b[0mis_hashable\u001b[0m\u001b[1;33m(\u001b[0m\u001b[0mkey\u001b[0m\u001b[1;33m)\u001b[0m\u001b[1;33m:\u001b[0m\u001b[1;33m\u001b[0m\u001b[1;33m\u001b[0m\u001b[0m\n",
      "\u001b[1;32m~\\AppData\\Roaming\\Python\\Python38\\site-packages\\pandas\\core\\series.py\u001b[0m in \u001b[0;36m_get_value\u001b[1;34m(self, label, takeable)\u001b[0m\n\u001b[0;32m   1087\u001b[0m \u001b[1;33m\u001b[0m\u001b[0m\n\u001b[0;32m   1088\u001b[0m         \u001b[1;31m# Similar to Index.get_value, but we do not fall back to positional\u001b[0m\u001b[1;33m\u001b[0m\u001b[1;33m\u001b[0m\u001b[1;33m\u001b[0m\u001b[0m\n\u001b[1;32m-> 1089\u001b[1;33m         \u001b[0mloc\u001b[0m \u001b[1;33m=\u001b[0m \u001b[0mself\u001b[0m\u001b[1;33m.\u001b[0m\u001b[0mindex\u001b[0m\u001b[1;33m.\u001b[0m\u001b[0mget_loc\u001b[0m\u001b[1;33m(\u001b[0m\u001b[0mlabel\u001b[0m\u001b[1;33m)\u001b[0m\u001b[1;33m\u001b[0m\u001b[1;33m\u001b[0m\u001b[0m\n\u001b[0m\u001b[0;32m   1090\u001b[0m         \u001b[1;32mreturn\u001b[0m \u001b[0mself\u001b[0m\u001b[1;33m.\u001b[0m\u001b[0mindex\u001b[0m\u001b[1;33m.\u001b[0m\u001b[0m_get_values_for_loc\u001b[0m\u001b[1;33m(\u001b[0m\u001b[0mself\u001b[0m\u001b[1;33m,\u001b[0m \u001b[0mloc\u001b[0m\u001b[1;33m,\u001b[0m \u001b[0mlabel\u001b[0m\u001b[1;33m)\u001b[0m\u001b[1;33m\u001b[0m\u001b[1;33m\u001b[0m\u001b[0m\n\u001b[0;32m   1091\u001b[0m \u001b[1;33m\u001b[0m\u001b[0m\n",
      "\u001b[1;32m~\\AppData\\Roaming\\Python\\Python38\\site-packages\\pandas\\core\\indexes\\base.py\u001b[0m in \u001b[0;36mget_loc\u001b[1;34m(self, key, method, tolerance)\u001b[0m\n\u001b[0;32m   3802\u001b[0m                 \u001b[1;32mreturn\u001b[0m \u001b[0mself\u001b[0m\u001b[1;33m.\u001b[0m\u001b[0m_engine\u001b[0m\u001b[1;33m.\u001b[0m\u001b[0mget_loc\u001b[0m\u001b[1;33m(\u001b[0m\u001b[0mcasted_key\u001b[0m\u001b[1;33m)\u001b[0m\u001b[1;33m\u001b[0m\u001b[1;33m\u001b[0m\u001b[0m\n\u001b[0;32m   3803\u001b[0m             \u001b[1;32mexcept\u001b[0m \u001b[0mKeyError\u001b[0m \u001b[1;32mas\u001b[0m \u001b[0merr\u001b[0m\u001b[1;33m:\u001b[0m\u001b[1;33m\u001b[0m\u001b[1;33m\u001b[0m\u001b[0m\n\u001b[1;32m-> 3804\u001b[1;33m                 \u001b[1;32mraise\u001b[0m \u001b[0mKeyError\u001b[0m\u001b[1;33m(\u001b[0m\u001b[0mkey\u001b[0m\u001b[1;33m)\u001b[0m \u001b[1;32mfrom\u001b[0m \u001b[0merr\u001b[0m\u001b[1;33m\u001b[0m\u001b[1;33m\u001b[0m\u001b[0m\n\u001b[0m\u001b[0;32m   3805\u001b[0m             \u001b[1;32mexcept\u001b[0m \u001b[0mTypeError\u001b[0m\u001b[1;33m:\u001b[0m\u001b[1;33m\u001b[0m\u001b[1;33m\u001b[0m\u001b[0m\n\u001b[0;32m   3806\u001b[0m                 \u001b[1;31m# If we have a listlike key, _check_indexing_error will raise\u001b[0m\u001b[1;33m\u001b[0m\u001b[1;33m\u001b[0m\u001b[1;33m\u001b[0m\u001b[0m\n",
      "\u001b[1;31mKeyError\u001b[0m: 10801"
     ]
    }
   ],
   "source": [
    "import re\n",
    "import nltk\n",
    "nltk.download('stopwords')\n",
    "from nltk.corpus import stopwords\n",
    "from nltk.stem.porter import PorterStemmer\n",
    "corpus = []\n",
    "for i in range(0, 76153):\n",
    "    amenities = re.sub('[^a-zA-Z]', ' ', new_data['amenities'][i])\n",
    "    amenities = amenities.lower()\n",
    "    amenities = amenities.split()\n",
    "    ps = PorterStemmer()\n",
    "    all_stopwords = stopwords.words('english')\n",
    "    all_stopwords.remove('not')\n",
    "    amenities = [ps.stem(word) for word in amenities if not word in set(all_stopwords)]\n",
    "    amenities = ' '.join(amenities)\n",
    "    corpus.append(amenities)"
   ]
  },
  {
   "cell_type": "code",
   "execution_count": 92,
   "id": "62a87e66",
   "metadata": {},
   "outputs": [
    {
     "data": {
      "image/png": "[encoded data removed]",
      "text/plain": [
       "<Figure size 1440x720 with 2 Axes>"
      ]
     },
     "metadata": {
      "needs_background": "light"
     },
     "output_type": "display_data"
    }
   ],
   "source": [
    "plt.figure(figsize=(20, 10))\n",
    "plt.subplot(1, 2, 1)\n",
    "sns.scatterplot(\n",
    "    data=new_data, x=\"room_type\", y=\"price\", color=\"crimson\", alpha=0.2\n",
    ")\n",
    "\n",
    "plt.subplot(1, 2, 2)\n",
    "sns.scatterplot(\n",
    "    data=new_data,\n",
    "    x=\"room_type\",\n",
    "    y=\"price\",\n",
    "    hue=\"room_type\",\n",
    "    palette=\"winter\",\n",
    ")\n",
    "plt.ylabel(\"Price\", fontsize=14, fontweight= \"bold\")\n",
    "ax.tick_params(axis=\"x\", rotation=90)\n",
    "plt.show()"
   ]
  },
  {
   "cell_type": "code",
   "execution_count": 85,
   "id": "2b00a654",
   "metadata": {},
   "outputs": [
    {
     "data": {
      "image/png": "[encoded data removed]",
      "text/plain": [
       "<Figure size 1080x504 with 1 Axes>"
      ]
     },
     "metadata": {
      "needs_background": "light"
     },
     "output_type": "display_data"
    }
   ],
   "source": [
    "plt.figure(figsize=(15, 7))\n",
    "ax = sns.countplot(\n",
    "    \"room_type\",\n",
    "    data=new_data,\n",
    "    order=new_data[\"room_type\"].value_counts().index,\n",
    "    palette=\"tab10\",\n",
    ")\n",
    "ax.set_xticklabels(\n",
    "    [\n",
    "        \"Entire home/apt\",\n",
    "        \"Private room\",\n",
    "        \"Hotel room\",\n",
    "        \"Shared room\",\n",
    "    ]\n",
    ")\n",
    "plt.title(\n",
    "    \"ROOM TYPE BASED ON FREQUENCY\",\n",
    "    fontsize=13,\n",
    "    fontweight=\"bold\",\n",
    ")\n",
    "plt.ylabel(\"Frequency\", fontsize=14, fontweight=\"bold\")\n",
    "plt.show()"
   ]
  },
  {
   "cell_type": "code",
   "execution_count": 96,
   "id": "06c0ba4a",
   "metadata": {},
   "outputs": [],
   "source": [
    "# creating a dataframe of host_location and price to develop some visuals and show relationship\n",
    "location_price = new_data[[\"host_location\", \"price\"]]"
   ]
  },
  {
   "cell_type": "code",
   "execution_count": 117,
   "id": "3f6e1df7",
   "metadata": {},
   "outputs": [
    {
     "data": {
      "text/plain": [
       "host_location                        price\n",
       "London, England, United Kingdom      50.0     1039\n",
       "                                     40.0     1032\n",
       "                                     100.0     983\n",
       "                                     35.0      903\n",
       "                                     30.0      889\n",
       "                                              ... \n",
       "Heronsgate, England, United Kingdom  40.0        1\n",
       "Herne Bay, England, United Kingdom   55.0        1\n",
       "Herefordshire                        295.0       1\n",
       "Hereford, England, United Kingdom    236.0       1\n",
       "英國倫敦                                 55.0        1\n",
       "Length: 10822, dtype: int64"
      ]
     },
     "execution_count": 117,
     "metadata": {},
     "output_type": "execute_result"
    }
   ],
   "source": [
    "location_price.value_counts()"
   ]
  },
  {
   "cell_type": "code",
   "execution_count": 106,
   "id": "bd5d6a0b",
   "metadata": {},
   "outputs": [
    {
     "data": {
      "text/plain": [
       "107.52470847617303"
      ]
     },
     "execution_count": 106,
     "metadata": {},
     "output_type": "execute_result"
    }
   ],
   "source": [
    "location_price.price.mean()"
   ]
  },
  {
   "cell_type": "code",
   "execution_count": 132,
   "id": "23bb0a7c",
   "metadata": {},
   "outputs": [
    {
     "data": {
      "image/png": "[encoded data removed]",
      "text/plain": [
       "<Figure size 1080x504 with 1 Axes>"
      ]
     },
     "metadata": {
      "needs_background": "light"
     },
     "output_type": "display_data"
    }
   ],
   "source": [
    "# Inspecting top 20 host locations with highest airbnb price according to data\n",
    "plt.figure(figsize=(15, 7))\n",
    "sns.barplot(data=location_price[:20], x=\"host_location\", y=\"price\")\n",
    "plt.ylabel(\"Price\", fontsize=14, fontweight= \"bold\")\n",
    "plt.xticks(rotation=90)\n",
    "plt.show()"
   ]
  },
  {
   "cell_type": "code",
   "execution_count": 227,
   "id": "94120750",
   "metadata": {},
   "outputs": [
    {
     "data": {
      "image/png": "[encoded data removed]",
      "text/plain": [
       "<Figure size 1080x504 with 1 Axes>"
      ]
     },
     "metadata": {
      "needs_background": "light"
     },
     "output_type": "display_data"
    }
   ],
   "source": [
    "plt.figure(figsize=(15, 7))\n",
    "ax = sns.countplot(new_data[\"review_scores_rating\"], palette=\"nipy_spectral\")\n",
    "plt.title(\"RATINGS DISTRIBUTION\", fontsize=15)\n",
    "plt.grid(alpha=0.4)\n",
    "plt.xticks(rotation=90)\n",
    "plt.show()"
   ]
  },
  {
   "cell_type": "code",
   "execution_count": 134,
   "id": "9b9510b1",
   "metadata": {},
   "outputs": [
    {
     "data": {
      "text/plain": [
       "(76426, 12)"
      ]
     },
     "execution_count": 134,
     "metadata": {},
     "output_type": "execute_result"
    }
   ],
   "source": [
    "new_data.shape"
   ]
  },
  {
   "cell_type": "code",
   "execution_count": 181,
   "id": "8763c7b8",
   "metadata": {},
   "outputs": [
    {
     "data": {
      "text/plain": [
       "<AxesSubplot:xlabel='price', ylabel='Density'>"
      ]
     },
     "execution_count": 181,
     "metadata": {},
     "output_type": "execute_result"
    },
    {
     "data": {
      "image/png": "[encoded data removed]",
      "text/plain": [
       "<Figure size 864x288 with 2 Axes>"
      ]
     },
     "metadata": {
      "needs_background": "light"
     },
     "output_type": "display_data"
    }
   ],
   "source": [
    "# inspecting price distribution and visualizing how normalizing the price will balance the data\n",
    "from scipy.stats import norm\n",
    "\n",
    "fig, ax = plt.subplots(1,2)\n",
    "width, height = fig.get_size_inches()\n",
    "fig.set_size_inches(width*2, height)\n",
    "sns.distplot(new_data['price'], ax=ax[0], fit=norm)\n",
    "sns.distplot(np.log(new_data[('price')]+1), ax=ax[1], fit= norm)"
   ]
  },
  {
   "cell_type": "markdown",
   "id": "681898c2",
   "metadata": {},
   "source": [
    "### Splitting Data into independent and dependent features X, y"
   ]
  },
  {
   "cell_type": "code",
   "execution_count": 135,
   "id": "cb904c14",
   "metadata": {},
   "outputs": [],
   "source": [
    "X = new_data.iloc[0:76426, 0:11]\n",
    "y = new_data.iloc[:, -1]"
   ]
  },
  {
   "cell_type": "code",
   "execution_count": 138,
   "id": "8f8479d5",
   "metadata": {},
   "outputs": [
    {
     "data": {
      "text/html": [
       "<div>\n",
       "<style scoped>\n",
       "    .dataframe tbody tr th:only-of-type {\n",
       "        vertical-align: middle;\n",
       "    }\n",
       "\n",
       "    .dataframe tbody tr th {\n",
       "        vertical-align: top;\n",
       "    }\n",
       "\n",
       "    .dataframe thead th {\n",
       "        text-align: right;\n",
       "    }\n",
       "</style>\n",
       "<table border=\"1\" class=\"dataframe\">\n",
       "  <thead>\n",
       "    <tr style=\"text-align: right;\">\n",
       "      <th></th>\n",
       "      <th>host_location</th>\n",
       "      <th>property_type</th>\n",
       "      <th>room_type</th>\n",
       "      <th>amenities</th>\n",
       "      <th>host_is_superhost</th>\n",
       "      <th>accommodates</th>\n",
       "      <th>bedrooms</th>\n",
       "      <th>beds</th>\n",
       "      <th>minimum_nights</th>\n",
       "      <th>review_scores_rating</th>\n",
       "      <th>instant_bookable</th>\n",
       "    </tr>\n",
       "  </thead>\n",
       "  <tbody>\n",
       "    <tr>\n",
       "      <th>76604</th>\n",
       "      <td>GB</td>\n",
       "      <td>Entire apartment</td>\n",
       "      <td>Entire home/apt</td>\n",
       "      <td>[\"Long term stays allowed\", \"Heating\", \"Extra ...</td>\n",
       "      <td>0</td>\n",
       "      <td>4</td>\n",
       "      <td>2</td>\n",
       "      <td>2</td>\n",
       "      <td>3</td>\n",
       "      <td>93.0</td>\n",
       "      <td>0</td>\n",
       "    </tr>\n",
       "    <tr>\n",
       "      <th>76605</th>\n",
       "      <td>England, United Kingdom</td>\n",
       "      <td>Private room in apartment</td>\n",
       "      <td>Private room</td>\n",
       "      <td>[\"Refrigerator\", \"Shampoo\", \"Toaster\", \"Microw...</td>\n",
       "      <td>0</td>\n",
       "      <td>2</td>\n",
       "      <td>1</td>\n",
       "      <td>1</td>\n",
       "      <td>2</td>\n",
       "      <td>93.0</td>\n",
       "      <td>0</td>\n",
       "    </tr>\n",
       "  </tbody>\n",
       "</table>\n",
       "</div>"
      ],
      "text/plain": [
       "                 host_location              property_type        room_type  \\\n",
       "76604                       GB           Entire apartment  Entire home/apt   \n",
       "76605  England, United Kingdom  Private room in apartment     Private room   \n",
       "\n",
       "                                               amenities  host_is_superhost  \\\n",
       "76604  [\"Long term stays allowed\", \"Heating\", \"Extra ...                  0   \n",
       "76605  [\"Refrigerator\", \"Shampoo\", \"Toaster\", \"Microw...                  0   \n",
       "\n",
       "       accommodates  bedrooms  beds  minimum_nights  review_scores_rating  \\\n",
       "76604             4         2     2               3                  93.0   \n",
       "76605             2         1     1               2                  93.0   \n",
       "\n",
       "       instant_bookable  \n",
       "76604                 0  \n",
       "76605                 0  "
      ]
     },
     "execution_count": 138,
     "metadata": {},
     "output_type": "execute_result"
    }
   ],
   "source": [
    "X.tail(2)"
   ]
  },
  {
   "cell_type": "code",
   "execution_count": 222,
   "id": "7a1c2230",
   "metadata": {},
   "outputs": [
    {
     "data": {
      "text/plain": [
       "(2425,)"
      ]
     },
     "execution_count": 222,
     "metadata": {},
     "output_type": "execute_result"
    }
   ],
   "source": [
    "new_data[\"host_location\"].unique().shape"
   ]
  },
  {
   "cell_type": "code",
   "execution_count": 142,
   "id": "ec74fe84",
   "metadata": {},
   "outputs": [
    {
     "data": {
      "text/plain": [
       "76604    433.0\n",
       "76605     18.0\n",
       "Name: price, dtype: float64"
      ]
     },
     "execution_count": 142,
     "metadata": {},
     "output_type": "execute_result"
    }
   ],
   "source": [
    "y.tail(2)"
   ]
  },
  {
   "cell_type": "code",
   "execution_count": 146,
   "id": "392cfa0d",
   "metadata": {},
   "outputs": [],
   "source": [
    "# scaling the numeric variable to remove outliers. \n",
    "from sklearn.preprocessing import StandardScaler\n",
    " as \n",
    "sc = StandardScaler()\n",
    "new_num_var = sc.fit_transform(num_var)"
   ]
  },
  {
   "cell_type": "code",
   "execution_count": null,
   "id": "c33525d6",
   "metadata": {},
   "outputs": [],
   "source": [
    "for i in new_data:\n",
    "    if "
   ]
  },
  {
   "cell_type": "code",
   "execution_count": 149,
   "id": "34cd2e52",
   "metadata": {},
   "outputs": [
    {
     "data": {
      "text/plain": [
       "Index(['host_is_superhost', 'accommodates', 'bedrooms', 'beds',\n",
       "       'minimum_nights', 'review_scores_rating', 'instant_bookable'],\n",
       "      dtype='object')"
      ]
     },
     "execution_count": 149,
     "metadata": {},
     "output_type": "execute_result"
    }
   ],
   "source": [
    "num_var.columns"
   ]
  },
  {
   "cell_type": "code",
   "execution_count": 150,
   "id": "fe982c84",
   "metadata": {},
   "outputs": [],
   "source": [
    "new_num_varr = pd.DataFrame(new_num_var, columns = ['host_is_superhost', 'accommodates', 'bedrooms', 'beds',\n",
    "       'minimum_nights', 'review_scores_rating', 'instant_bookable'])"
   ]
  },
  {
   "cell_type": "code",
   "execution_count": 151,
   "id": "c776ff5e",
   "metadata": {},
   "outputs": [
    {
     "data": {
      "text/html": [
       "<div>\n",
       "<style scoped>\n",
       "    .dataframe tbody tr th:only-of-type {\n",
       "        vertical-align: middle;\n",
       "    }\n",
       "\n",
       "    .dataframe tbody tr th {\n",
       "        vertical-align: top;\n",
       "    }\n",
       "\n",
       "    .dataframe thead th {\n",
       "        text-align: right;\n",
       "    }\n",
       "</style>\n",
       "<table border=\"1\" class=\"dataframe\">\n",
       "  <thead>\n",
       "    <tr style=\"text-align: right;\">\n",
       "      <th></th>\n",
       "      <th>host_is_superhost</th>\n",
       "      <th>accommodates</th>\n",
       "      <th>bedrooms</th>\n",
       "      <th>beds</th>\n",
       "      <th>minimum_nights</th>\n",
       "      <th>review_scores_rating</th>\n",
       "      <th>instant_bookable</th>\n",
       "    </tr>\n",
       "  </thead>\n",
       "  <tbody>\n",
       "    <tr>\n",
       "      <th>0</th>\n",
       "      <td>-0.407485</td>\n",
       "      <td>0.486277</td>\n",
       "      <td>-0.548418</td>\n",
       "      <td>1.041001</td>\n",
       "      <td>-0.145146</td>\n",
       "      <td>-0.232073</td>\n",
       "      <td>1.324383</td>\n",
       "    </tr>\n",
       "    <tr>\n",
       "      <th>1</th>\n",
       "      <td>-0.407485</td>\n",
       "      <td>-0.549775</td>\n",
       "      <td>-0.548418</td>\n",
       "      <td>-0.608124</td>\n",
       "      <td>-0.191275</td>\n",
       "      <td>0.454458</td>\n",
       "      <td>-0.755068</td>\n",
       "    </tr>\n",
       "    <tr>\n",
       "      <th>2</th>\n",
       "      <td>-0.407485</td>\n",
       "      <td>-0.549775</td>\n",
       "      <td>-0.548418</td>\n",
       "      <td>-0.608124</td>\n",
       "      <td>0.223885</td>\n",
       "      <td>0.340036</td>\n",
       "      <td>1.324383</td>\n",
       "    </tr>\n",
       "    <tr>\n",
       "      <th>3</th>\n",
       "      <td>2.454081</td>\n",
       "      <td>1.522329</td>\n",
       "      <td>1.853220</td>\n",
       "      <td>1.041001</td>\n",
       "      <td>-0.052888</td>\n",
       "      <td>0.111192</td>\n",
       "      <td>-0.755068</td>\n",
       "    </tr>\n",
       "    <tr>\n",
       "      <th>4</th>\n",
       "      <td>-0.407485</td>\n",
       "      <td>-0.549775</td>\n",
       "      <td>-0.548418</td>\n",
       "      <td>-0.608124</td>\n",
       "      <td>-0.099017</td>\n",
       "      <td>-0.003229</td>\n",
       "      <td>-0.755068</td>\n",
       "    </tr>\n",
       "    <tr>\n",
       "      <th>...</th>\n",
       "      <td>...</td>\n",
       "      <td>...</td>\n",
       "      <td>...</td>\n",
       "      <td>...</td>\n",
       "      <td>...</td>\n",
       "      <td>...</td>\n",
       "      <td>...</td>\n",
       "    </tr>\n",
       "    <tr>\n",
       "      <th>76421</th>\n",
       "      <td>-0.407485</td>\n",
       "      <td>0.486277</td>\n",
       "      <td>0.652401</td>\n",
       "      <td>0.216439</td>\n",
       "      <td>-0.099017</td>\n",
       "      <td>-0.003229</td>\n",
       "      <td>1.324383</td>\n",
       "    </tr>\n",
       "    <tr>\n",
       "      <th>76422</th>\n",
       "      <td>-0.407485</td>\n",
       "      <td>-0.549775</td>\n",
       "      <td>-0.548418</td>\n",
       "      <td>-0.608124</td>\n",
       "      <td>-0.099017</td>\n",
       "      <td>0.797724</td>\n",
       "      <td>1.324383</td>\n",
       "    </tr>\n",
       "    <tr>\n",
       "      <th>76423</th>\n",
       "      <td>-0.407485</td>\n",
       "      <td>0.486277</td>\n",
       "      <td>0.652401</td>\n",
       "      <td>1.865563</td>\n",
       "      <td>-0.052888</td>\n",
       "      <td>-0.003229</td>\n",
       "      <td>-0.755068</td>\n",
       "    </tr>\n",
       "    <tr>\n",
       "      <th>76424</th>\n",
       "      <td>-0.407485</td>\n",
       "      <td>0.486277</td>\n",
       "      <td>0.652401</td>\n",
       "      <td>0.216439</td>\n",
       "      <td>-0.099017</td>\n",
       "      <td>-0.003229</td>\n",
       "      <td>-0.755068</td>\n",
       "    </tr>\n",
       "    <tr>\n",
       "      <th>76425</th>\n",
       "      <td>-0.407485</td>\n",
       "      <td>-0.549775</td>\n",
       "      <td>-0.548418</td>\n",
       "      <td>-0.608124</td>\n",
       "      <td>-0.145146</td>\n",
       "      <td>-0.003229</td>\n",
       "      <td>-0.755068</td>\n",
       "    </tr>\n",
       "  </tbody>\n",
       "</table>\n",
       "<p>76426 rows × 7 columns</p>\n",
       "</div>"
      ],
      "text/plain": [
       "       host_is_superhost  accommodates  bedrooms      beds  minimum_nights  \\\n",
       "0              -0.407485      0.486277 -0.548418  1.041001       -0.145146   \n",
       "1              -0.407485     -0.549775 -0.548418 -0.608124       -0.191275   \n",
       "2              -0.407485     -0.549775 -0.548418 -0.608124        0.223885   \n",
       "3               2.454081      1.522329  1.853220  1.041001       -0.052888   \n",
       "4              -0.407485     -0.549775 -0.548418 -0.608124       -0.099017   \n",
       "...                  ...           ...       ...       ...             ...   \n",
       "76421          -0.407485      0.486277  0.652401  0.216439       -0.099017   \n",
       "76422          -0.407485     -0.549775 -0.548418 -0.608124       -0.099017   \n",
       "76423          -0.407485      0.486277  0.652401  1.865563       -0.052888   \n",
       "76424          -0.407485      0.486277  0.652401  0.216439       -0.099017   \n",
       "76425          -0.407485     -0.549775 -0.548418 -0.608124       -0.145146   \n",
       "\n",
       "       review_scores_rating  instant_bookable  \n",
       "0                 -0.232073          1.324383  \n",
       "1                  0.454458         -0.755068  \n",
       "2                  0.340036          1.324383  \n",
       "3                  0.111192         -0.755068  \n",
       "4                 -0.003229         -0.755068  \n",
       "...                     ...               ...  \n",
       "76421             -0.003229          1.324383  \n",
       "76422              0.797724          1.324383  \n",
       "76423             -0.003229         -0.755068  \n",
       "76424             -0.003229         -0.755068  \n",
       "76425             -0.003229         -0.755068  \n",
       "\n",
       "[76426 rows x 7 columns]"
      ]
     },
     "execution_count": 151,
     "metadata": {},
     "output_type": "execute_result"
    }
   ],
   "source": [
    "new_num_varr"
   ]
  },
  {
   "cell_type": "code",
   "execution_count": 164,
   "id": "d5d16ea2",
   "metadata": {},
   "outputs": [
    {
     "data": {
      "text/plain": [
       "Index(['host_is_superhost', 'accommodates', 'bedrooms', 'beds',\n",
       "       'minimum_nights', 'review_scores_rating', 'instant_bookable'],\n",
       "      dtype='object')"
      ]
     },
     "execution_count": 164,
     "metadata": {},
     "output_type": "execute_result"
    }
   ],
   "source": [
    "new_num_varr.columns"
   ]
  },
  {
   "cell_type": "code",
   "execution_count": null,
   "id": "6276c139",
   "metadata": {},
   "outputs": [],
   "source": [
    ", 'accommodates', 'bedrooms', 'beds','minimum_nights', 'review_scores_rating', 'instant_bookable'"
   ]
  },
  {
   "cell_type": "code",
   "execution_count": 170,
   "id": "ce129958",
   "metadata": {},
   "outputs": [],
   "source": [
    "df_cat['host_is_superhost'] = new_num_varr['host_is_superhost']"
   ]
  },
  {
   "cell_type": "code",
   "execution_count": 171,
   "id": "87564ad6",
   "metadata": {},
   "outputs": [],
   "source": [
    "df_cat['accommodates'] = new_num_varr['accommodates']\n",
    "df_cat['bedrooms'] = new_num_varr['bedrooms']\n",
    "df_cat['beds'] = new_num_varr['beds']\n",
    "df_cat['minimum_nights'] = new_num_varr['minimum_nights']\n",
    "df_cat['review_scores_rating'] = new_num_varr['review_scores_rating']\n",
    "df_cat['instant_bookable'] = new_num_varr['instant_bookable']"
   ]
  },
  {
   "cell_type": "markdown",
   "id": "2974b0eb",
   "metadata": {},
   "source": [
    "## Splitting data into Training Set and Test Set"
   ]
  },
  {
   "cell_type": "code",
   "execution_count": 173,
   "id": "6e747f57",
   "metadata": {},
   "outputs": [],
   "source": [
    "X_train, X_test, y_train, y_test = train_test_split(X, y, test_size=0.30, random_state=0)"
   ]
  },
  {
   "cell_type": "code",
   "execution_count": null,
   "id": "f3e9dbaa",
   "metadata": {},
   "outputs": [],
   "source": [
    "hyper_params = {\n",
    "    'task': 'train',\n",
    "    'boosting_type': 'gbdt',\n",
    "    'objective': 'regression',\n",
    "    'metric': ['l1','l2'],\n",
    "    'learning_rate': 0.005,\n",
    "    'feature_fraction': 0.9,\n",
    "    'bagging_fraction': 0.7,\n",
    "    'bagging_freq': 10,\n",
    "    'verbose': 0,\n",
    "    \"max_depth\": 8,\n",
    "    \"num_leaves\": 128,  \n",
    "    \"max_bin\": 512,\n",
    "    \"num_iterations\": 100000\n",
    "}"
   ]
  },
  {
   "cell_type": "code",
   "execution_count": 217,
   "id": "ff5b21dd",
   "metadata": {},
   "outputs": [],
   "source": [
    "import lightgbm as lgb\n",
    "gbm = lgb.LGBMRegressor()"
   ]
  },
  {
   "cell_type": "code",
   "execution_count": 223,
   "id": "dd8ae9c2",
   "metadata": {},
   "outputs": [],
   "source": [
    "#gbm.fit(X_train, y_train)"
   ]
  },
  {
   "cell_type": "code",
   "execution_count": 225,
   "id": "2e0fd59d",
   "metadata": {},
   "outputs": [
    {
     "ename": "SyntaxError",
     "evalue": "invalid syntax (<ipython-input-225-367650abd756>, line 1)",
     "output_type": "error",
     "traceback": [
      "\u001b[1;36m  File \u001b[1;32m\"<ipython-input-225-367650abd756>\"\u001b[1;36m, line \u001b[1;32m1\u001b[0m\n\u001b[1;33m    import autogluon.tabular import TabularPredictor\u001b[0m\n\u001b[1;37m                             ^\u001b[0m\n\u001b[1;31mSyntaxError\u001b[0m\u001b[1;31m:\u001b[0m invalid syntax\n"
     ]
    }
   ],
   "source": [
    "import autogluon.tabular import TabularPredictor"
   ]
  },
  {
   "cell_type": "code",
   "execution_count": null,
   "id": "8a0b7c2d",
   "metadata": {},
   "outputs": [],
   "source": [
    "pip"
   ]
  }
 ],
 "metadata": {
  "kernelspec": {
   "display_name": "Python 3 (ipykernel)",
   "language": "python",
   "name": "python3"
  },
  "language_info": {
   "codemirror_mode": {
    "name": "ipython",
    "version": 3
   },
   "file_extension": ".py",
   "mimetype": "text/x-python",
   "name": "python",
   "nbconvert_exporter": "python",
   "pygments_lexer": "ipython3",
   "version": "3.9.12"
  }
 },
 "nbformat": 4,
 "nbformat_minor": 5
}
